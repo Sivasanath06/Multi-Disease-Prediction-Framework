{
 "cells": [
  {
   "cell_type": "code",
   "execution_count": 37,
   "id": "89764c70",
   "metadata": {
    "execution": {
     "iopub.execute_input": "2021-08-03T10:26:46.139047Z",
     "iopub.status.busy": "2021-08-03T10:26:46.137938Z",
     "iopub.status.idle": "2021-08-03T10:26:48.406711Z",
     "shell.execute_reply": "2021-08-03T10:26:48.405410Z",
     "shell.execute_reply.started": "2021-08-03T10:09:00.112316Z"
    },
    "papermill": {
     "duration": 2.342669,
     "end_time": "2021-08-03T10:26:48.406881",
     "exception": false,
     "start_time": "2021-08-03T10:26:46.064212",
     "status": "completed"
    },
    "tags": []
   },
   "outputs": [],
   "source": [
    "\n",
    "import pandas as pd\n",
    "import numpy as np\n",
    "import matplotlib.pyplot as plt\n",
    "import seaborn as sns\n",
    "import plotly.express as px\n",
    "from sklearn.metrics import confusion_matrix,accuracy_score,roc_curve,classification_report\n",
    "\n",
    "import warnings\n",
    "warnings.filterwarnings('ignore')\n",
    "\n",
    "plt.style.use('fivethirtyeight')\n",
    "%matplotlib inline\n",
    "pd.set_option('display.max_columns', 26)"
   ]
  },
  {
   "cell_type": "code",
   "execution_count": 38,
   "id": "f101956a",
   "metadata": {
    "execution": {
     "iopub.execute_input": "2021-08-03T10:26:48.551923Z",
     "iopub.status.busy": "2021-08-03T10:26:48.551258Z",
     "iopub.status.idle": "2021-08-03T10:26:48.611141Z",
     "shell.execute_reply": "2021-08-03T10:26:48.611631Z",
     "shell.execute_reply.started": "2021-08-03T10:09:01.365384Z"
    },
    "papermill": {
     "duration": 0.134709,
     "end_time": "2021-08-03T10:26:48.611821",
     "exception": false,
     "start_time": "2021-08-03T10:26:48.477112",
     "status": "completed"
    },
    "tags": []
   },
   "outputs": [
    {
     "data": {
      "text/html": [
       "<div>\n",
       "<style scoped>\n",
       "    .dataframe tbody tr th:only-of-type {\n",
       "        vertical-align: middle;\n",
       "    }\n",
       "\n",
       "    .dataframe tbody tr th {\n",
       "        vertical-align: top;\n",
       "    }\n",
       "\n",
       "    .dataframe thead th {\n",
       "        text-align: right;\n",
       "    }\n",
       "</style>\n",
       "<table border=\"1\" class=\"dataframe\">\n",
       "  <thead>\n",
       "    <tr style=\"text-align: right;\">\n",
       "      <th></th>\n",
       "      <th>id</th>\n",
       "      <th>age</th>\n",
       "      <th>bp</th>\n",
       "      <th>sg</th>\n",
       "      <th>al</th>\n",
       "      <th>su</th>\n",
       "      <th>rbc</th>\n",
       "      <th>pc</th>\n",
       "      <th>pcc</th>\n",
       "      <th>ba</th>\n",
       "      <th>bgr</th>\n",
       "      <th>bu</th>\n",
       "      <th>sc</th>\n",
       "      <th>sod</th>\n",
       "      <th>pot</th>\n",
       "      <th>hemo</th>\n",
       "      <th>pcv</th>\n",
       "      <th>wc</th>\n",
       "      <th>rc</th>\n",
       "      <th>htn</th>\n",
       "      <th>dm</th>\n",
       "      <th>cad</th>\n",
       "      <th>appet</th>\n",
       "      <th>pe</th>\n",
       "      <th>ane</th>\n",
       "      <th>classification</th>\n",
       "    </tr>\n",
       "  </thead>\n",
       "  <tbody>\n",
       "    <tr>\n",
       "      <th>0</th>\n",
       "      <td>0</td>\n",
       "      <td>48.0</td>\n",
       "      <td>80.0</td>\n",
       "      <td>1.020</td>\n",
       "      <td>1.0</td>\n",
       "      <td>0.0</td>\n",
       "      <td>NaN</td>\n",
       "      <td>normal</td>\n",
       "      <td>notpresent</td>\n",
       "      <td>notpresent</td>\n",
       "      <td>121.0</td>\n",
       "      <td>36.0</td>\n",
       "      <td>1.2</td>\n",
       "      <td>NaN</td>\n",
       "      <td>NaN</td>\n",
       "      <td>15.4</td>\n",
       "      <td>44</td>\n",
       "      <td>7800</td>\n",
       "      <td>5.2</td>\n",
       "      <td>yes</td>\n",
       "      <td>yes</td>\n",
       "      <td>no</td>\n",
       "      <td>good</td>\n",
       "      <td>no</td>\n",
       "      <td>no</td>\n",
       "      <td>ckd</td>\n",
       "    </tr>\n",
       "    <tr>\n",
       "      <th>1</th>\n",
       "      <td>1</td>\n",
       "      <td>7.0</td>\n",
       "      <td>50.0</td>\n",
       "      <td>1.020</td>\n",
       "      <td>4.0</td>\n",
       "      <td>0.0</td>\n",
       "      <td>NaN</td>\n",
       "      <td>normal</td>\n",
       "      <td>notpresent</td>\n",
       "      <td>notpresent</td>\n",
       "      <td>NaN</td>\n",
       "      <td>18.0</td>\n",
       "      <td>0.8</td>\n",
       "      <td>NaN</td>\n",
       "      <td>NaN</td>\n",
       "      <td>11.3</td>\n",
       "      <td>38</td>\n",
       "      <td>6000</td>\n",
       "      <td>NaN</td>\n",
       "      <td>no</td>\n",
       "      <td>no</td>\n",
       "      <td>no</td>\n",
       "      <td>good</td>\n",
       "      <td>no</td>\n",
       "      <td>no</td>\n",
       "      <td>ckd</td>\n",
       "    </tr>\n",
       "    <tr>\n",
       "      <th>2</th>\n",
       "      <td>2</td>\n",
       "      <td>62.0</td>\n",
       "      <td>80.0</td>\n",
       "      <td>1.010</td>\n",
       "      <td>2.0</td>\n",
       "      <td>3.0</td>\n",
       "      <td>normal</td>\n",
       "      <td>normal</td>\n",
       "      <td>notpresent</td>\n",
       "      <td>notpresent</td>\n",
       "      <td>423.0</td>\n",
       "      <td>53.0</td>\n",
       "      <td>1.8</td>\n",
       "      <td>NaN</td>\n",
       "      <td>NaN</td>\n",
       "      <td>9.6</td>\n",
       "      <td>31</td>\n",
       "      <td>7500</td>\n",
       "      <td>NaN</td>\n",
       "      <td>no</td>\n",
       "      <td>yes</td>\n",
       "      <td>no</td>\n",
       "      <td>poor</td>\n",
       "      <td>no</td>\n",
       "      <td>yes</td>\n",
       "      <td>ckd</td>\n",
       "    </tr>\n",
       "    <tr>\n",
       "      <th>3</th>\n",
       "      <td>3</td>\n",
       "      <td>48.0</td>\n",
       "      <td>70.0</td>\n",
       "      <td>1.005</td>\n",
       "      <td>4.0</td>\n",
       "      <td>0.0</td>\n",
       "      <td>normal</td>\n",
       "      <td>abnormal</td>\n",
       "      <td>present</td>\n",
       "      <td>notpresent</td>\n",
       "      <td>117.0</td>\n",
       "      <td>56.0</td>\n",
       "      <td>3.8</td>\n",
       "      <td>111.0</td>\n",
       "      <td>2.5</td>\n",
       "      <td>11.2</td>\n",
       "      <td>32</td>\n",
       "      <td>6700</td>\n",
       "      <td>3.9</td>\n",
       "      <td>yes</td>\n",
       "      <td>no</td>\n",
       "      <td>no</td>\n",
       "      <td>poor</td>\n",
       "      <td>yes</td>\n",
       "      <td>yes</td>\n",
       "      <td>ckd</td>\n",
       "    </tr>\n",
       "    <tr>\n",
       "      <th>4</th>\n",
       "      <td>4</td>\n",
       "      <td>51.0</td>\n",
       "      <td>80.0</td>\n",
       "      <td>1.010</td>\n",
       "      <td>2.0</td>\n",
       "      <td>0.0</td>\n",
       "      <td>normal</td>\n",
       "      <td>normal</td>\n",
       "      <td>notpresent</td>\n",
       "      <td>notpresent</td>\n",
       "      <td>106.0</td>\n",
       "      <td>26.0</td>\n",
       "      <td>1.4</td>\n",
       "      <td>NaN</td>\n",
       "      <td>NaN</td>\n",
       "      <td>11.6</td>\n",
       "      <td>35</td>\n",
       "      <td>7300</td>\n",
       "      <td>4.6</td>\n",
       "      <td>no</td>\n",
       "      <td>no</td>\n",
       "      <td>no</td>\n",
       "      <td>good</td>\n",
       "      <td>no</td>\n",
       "      <td>no</td>\n",
       "      <td>ckd</td>\n",
       "    </tr>\n",
       "  </tbody>\n",
       "</table>\n",
       "</div>"
      ],
      "text/plain": [
       "   id   age    bp     sg   al   su     rbc        pc         pcc          ba  \\\n",
       "0   0  48.0  80.0  1.020  1.0  0.0     NaN    normal  notpresent  notpresent   \n",
       "1   1   7.0  50.0  1.020  4.0  0.0     NaN    normal  notpresent  notpresent   \n",
       "2   2  62.0  80.0  1.010  2.0  3.0  normal    normal  notpresent  notpresent   \n",
       "3   3  48.0  70.0  1.005  4.0  0.0  normal  abnormal     present  notpresent   \n",
       "4   4  51.0  80.0  1.010  2.0  0.0  normal    normal  notpresent  notpresent   \n",
       "\n",
       "     bgr    bu   sc    sod  pot  hemo pcv    wc   rc  htn   dm cad appet   pe  \\\n",
       "0  121.0  36.0  1.2    NaN  NaN  15.4  44  7800  5.2  yes  yes  no  good   no   \n",
       "1    NaN  18.0  0.8    NaN  NaN  11.3  38  6000  NaN   no   no  no  good   no   \n",
       "2  423.0  53.0  1.8    NaN  NaN   9.6  31  7500  NaN   no  yes  no  poor   no   \n",
       "3  117.0  56.0  3.8  111.0  2.5  11.2  32  6700  3.9  yes   no  no  poor  yes   \n",
       "4  106.0  26.0  1.4    NaN  NaN  11.6  35  7300  4.6   no   no  no  good   no   \n",
       "\n",
       "   ane classification  \n",
       "0   no            ckd  \n",
       "1   no            ckd  \n",
       "2  yes            ckd  \n",
       "3  yes            ckd  \n",
       "4   no            ckd  "
      ]
     },
     "execution_count": 38,
     "metadata": {},
     "output_type": "execute_result"
    }
   ],
   "source": [
    "\n",
    "df= pd.read_csv('kidney_disease.csv')\n",
    "df.head()"
   ]
  },
  {
   "cell_type": "code",
   "execution_count": 39,
   "id": "c7a54143",
   "metadata": {
    "execution": {
     "iopub.execute_input": "2021-08-03T10:26:48.760118Z",
     "iopub.status.busy": "2021-08-03T10:26:48.759492Z",
     "iopub.status.idle": "2021-08-03T10:26:48.761862Z",
     "shell.execute_reply": "2021-08-03T10:26:48.762418Z",
     "shell.execute_reply.started": "2021-08-03T10:09:01.415115Z"
    },
    "papermill": {
     "duration": 0.078791,
     "end_time": "2021-08-03T10:26:48.762575",
     "exception": false,
     "start_time": "2021-08-03T10:26:48.683784",
     "status": "completed"
    },
    "tags": []
   },
   "outputs": [
    {
     "data": {
      "text/plain": [
       "(400, 26)"
      ]
     },
     "execution_count": 39,
     "metadata": {},
     "output_type": "execute_result"
    }
   ],
   "source": [
    "df.shape"
   ]
  },
  {
   "cell_type": "code",
   "execution_count": 40,
   "id": "a2142b9e",
   "metadata": {
    "execution": {
     "iopub.execute_input": "2021-08-03T10:26:48.908090Z",
     "iopub.status.busy": "2021-08-03T10:26:48.907440Z",
     "iopub.status.idle": "2021-08-03T10:26:48.915300Z",
     "shell.execute_reply": "2021-08-03T10:26:48.914746Z",
     "shell.execute_reply.started": "2021-08-03T10:09:01.421922Z"
    },
    "papermill": {
     "duration": 0.081484,
     "end_time": "2021-08-03T10:26:48.915444",
     "exception": false,
     "start_time": "2021-08-03T10:26:48.833960",
     "status": "completed"
    },
    "tags": []
   },
   "outputs": [],
   "source": [
    "# dropping id column\n",
    "df.drop('id', axis = 1, inplace = True)"
   ]
  },
  {
   "cell_type": "code",
   "execution_count": 41,
   "id": "07a84f5d",
   "metadata": {
    "execution": {
     "iopub.execute_input": "2021-08-03T10:26:49.066447Z",
     "iopub.status.busy": "2021-08-03T10:26:49.065652Z",
     "iopub.status.idle": "2021-08-03T10:26:49.068464Z",
     "shell.execute_reply": "2021-08-03T10:26:49.067989Z",
     "shell.execute_reply.started": "2021-08-03T10:09:01.432801Z"
    },
    "papermill": {
     "duration": 0.081719,
     "end_time": "2021-08-03T10:26:49.068594",
     "exception": false,
     "start_time": "2021-08-03T10:26:48.986875",
     "status": "completed"
    },
    "tags": []
   },
   "outputs": [],
   "source": [
    "\n",
    "df.columns = ['age', 'blood_pressure', 'specific_gravity', 'albumin', 'sugar', 'red_blood_cells', 'pus_cell',\n",
    "              'pus_cell_clumps', 'bacteria', 'blood_glucose_random', 'blood_urea', 'serum_creatinine', 'sodium',\n",
    "              'potassium', 'haemoglobin', 'packed_cell_volume', 'white_blood_cell_count', 'red_blood_cell_count',\n",
    "              'hypertension', 'diabetes_mellitus', 'coronary_artery_disease', 'appetite', 'peda_edema',\n",
    "              'aanemia', 'class']"
   ]
  },
  {
   "cell_type": "code",
   "execution_count": 42,
   "id": "68d8ee8b",
   "metadata": {
    "execution": {
     "iopub.execute_input": "2021-08-03T10:26:49.213981Z",
     "iopub.status.busy": "2021-08-03T10:26:49.213021Z",
     "iopub.status.idle": "2021-08-03T10:26:49.245737Z",
     "shell.execute_reply": "2021-08-03T10:26:49.245204Z",
     "shell.execute_reply.started": "2021-08-03T10:09:01.443762Z"
    },
    "papermill": {
     "duration": 0.10622,
     "end_time": "2021-08-03T10:26:49.245870",
     "exception": false,
     "start_time": "2021-08-03T10:26:49.139650",
     "status": "completed"
    },
    "tags": []
   },
   "outputs": [
    {
     "data": {
      "text/html": [
       "<div>\n",
       "<style scoped>\n",
       "    .dataframe tbody tr th:only-of-type {\n",
       "        vertical-align: middle;\n",
       "    }\n",
       "\n",
       "    .dataframe tbody tr th {\n",
       "        vertical-align: top;\n",
       "    }\n",
       "\n",
       "    .dataframe thead th {\n",
       "        text-align: right;\n",
       "    }\n",
       "</style>\n",
       "<table border=\"1\" class=\"dataframe\">\n",
       "  <thead>\n",
       "    <tr style=\"text-align: right;\">\n",
       "      <th></th>\n",
       "      <th>age</th>\n",
       "      <th>blood_pressure</th>\n",
       "      <th>specific_gravity</th>\n",
       "      <th>albumin</th>\n",
       "      <th>sugar</th>\n",
       "      <th>red_blood_cells</th>\n",
       "      <th>pus_cell</th>\n",
       "      <th>pus_cell_clumps</th>\n",
       "      <th>bacteria</th>\n",
       "      <th>blood_glucose_random</th>\n",
       "      <th>blood_urea</th>\n",
       "      <th>serum_creatinine</th>\n",
       "      <th>sodium</th>\n",
       "      <th>potassium</th>\n",
       "      <th>haemoglobin</th>\n",
       "      <th>packed_cell_volume</th>\n",
       "      <th>white_blood_cell_count</th>\n",
       "      <th>red_blood_cell_count</th>\n",
       "      <th>hypertension</th>\n",
       "      <th>diabetes_mellitus</th>\n",
       "      <th>coronary_artery_disease</th>\n",
       "      <th>appetite</th>\n",
       "      <th>peda_edema</th>\n",
       "      <th>aanemia</th>\n",
       "      <th>class</th>\n",
       "    </tr>\n",
       "  </thead>\n",
       "  <tbody>\n",
       "    <tr>\n",
       "      <th>0</th>\n",
       "      <td>48.0</td>\n",
       "      <td>80.0</td>\n",
       "      <td>1.020</td>\n",
       "      <td>1.0</td>\n",
       "      <td>0.0</td>\n",
       "      <td>NaN</td>\n",
       "      <td>normal</td>\n",
       "      <td>notpresent</td>\n",
       "      <td>notpresent</td>\n",
       "      <td>121.0</td>\n",
       "      <td>36.0</td>\n",
       "      <td>1.2</td>\n",
       "      <td>NaN</td>\n",
       "      <td>NaN</td>\n",
       "      <td>15.4</td>\n",
       "      <td>44</td>\n",
       "      <td>7800</td>\n",
       "      <td>5.2</td>\n",
       "      <td>yes</td>\n",
       "      <td>yes</td>\n",
       "      <td>no</td>\n",
       "      <td>good</td>\n",
       "      <td>no</td>\n",
       "      <td>no</td>\n",
       "      <td>ckd</td>\n",
       "    </tr>\n",
       "    <tr>\n",
       "      <th>1</th>\n",
       "      <td>7.0</td>\n",
       "      <td>50.0</td>\n",
       "      <td>1.020</td>\n",
       "      <td>4.0</td>\n",
       "      <td>0.0</td>\n",
       "      <td>NaN</td>\n",
       "      <td>normal</td>\n",
       "      <td>notpresent</td>\n",
       "      <td>notpresent</td>\n",
       "      <td>NaN</td>\n",
       "      <td>18.0</td>\n",
       "      <td>0.8</td>\n",
       "      <td>NaN</td>\n",
       "      <td>NaN</td>\n",
       "      <td>11.3</td>\n",
       "      <td>38</td>\n",
       "      <td>6000</td>\n",
       "      <td>NaN</td>\n",
       "      <td>no</td>\n",
       "      <td>no</td>\n",
       "      <td>no</td>\n",
       "      <td>good</td>\n",
       "      <td>no</td>\n",
       "      <td>no</td>\n",
       "      <td>ckd</td>\n",
       "    </tr>\n",
       "    <tr>\n",
       "      <th>2</th>\n",
       "      <td>62.0</td>\n",
       "      <td>80.0</td>\n",
       "      <td>1.010</td>\n",
       "      <td>2.0</td>\n",
       "      <td>3.0</td>\n",
       "      <td>normal</td>\n",
       "      <td>normal</td>\n",
       "      <td>notpresent</td>\n",
       "      <td>notpresent</td>\n",
       "      <td>423.0</td>\n",
       "      <td>53.0</td>\n",
       "      <td>1.8</td>\n",
       "      <td>NaN</td>\n",
       "      <td>NaN</td>\n",
       "      <td>9.6</td>\n",
       "      <td>31</td>\n",
       "      <td>7500</td>\n",
       "      <td>NaN</td>\n",
       "      <td>no</td>\n",
       "      <td>yes</td>\n",
       "      <td>no</td>\n",
       "      <td>poor</td>\n",
       "      <td>no</td>\n",
       "      <td>yes</td>\n",
       "      <td>ckd</td>\n",
       "    </tr>\n",
       "    <tr>\n",
       "      <th>3</th>\n",
       "      <td>48.0</td>\n",
       "      <td>70.0</td>\n",
       "      <td>1.005</td>\n",
       "      <td>4.0</td>\n",
       "      <td>0.0</td>\n",
       "      <td>normal</td>\n",
       "      <td>abnormal</td>\n",
       "      <td>present</td>\n",
       "      <td>notpresent</td>\n",
       "      <td>117.0</td>\n",
       "      <td>56.0</td>\n",
       "      <td>3.8</td>\n",
       "      <td>111.0</td>\n",
       "      <td>2.5</td>\n",
       "      <td>11.2</td>\n",
       "      <td>32</td>\n",
       "      <td>6700</td>\n",
       "      <td>3.9</td>\n",
       "      <td>yes</td>\n",
       "      <td>no</td>\n",
       "      <td>no</td>\n",
       "      <td>poor</td>\n",
       "      <td>yes</td>\n",
       "      <td>yes</td>\n",
       "      <td>ckd</td>\n",
       "    </tr>\n",
       "    <tr>\n",
       "      <th>4</th>\n",
       "      <td>51.0</td>\n",
       "      <td>80.0</td>\n",
       "      <td>1.010</td>\n",
       "      <td>2.0</td>\n",
       "      <td>0.0</td>\n",
       "      <td>normal</td>\n",
       "      <td>normal</td>\n",
       "      <td>notpresent</td>\n",
       "      <td>notpresent</td>\n",
       "      <td>106.0</td>\n",
       "      <td>26.0</td>\n",
       "      <td>1.4</td>\n",
       "      <td>NaN</td>\n",
       "      <td>NaN</td>\n",
       "      <td>11.6</td>\n",
       "      <td>35</td>\n",
       "      <td>7300</td>\n",
       "      <td>4.6</td>\n",
       "      <td>no</td>\n",
       "      <td>no</td>\n",
       "      <td>no</td>\n",
       "      <td>good</td>\n",
       "      <td>no</td>\n",
       "      <td>no</td>\n",
       "      <td>ckd</td>\n",
       "    </tr>\n",
       "  </tbody>\n",
       "</table>\n",
       "</div>"
      ],
      "text/plain": [
       "    age  blood_pressure  specific_gravity  albumin  sugar red_blood_cells  \\\n",
       "0  48.0            80.0             1.020      1.0    0.0             NaN   \n",
       "1   7.0            50.0             1.020      4.0    0.0             NaN   \n",
       "2  62.0            80.0             1.010      2.0    3.0          normal   \n",
       "3  48.0            70.0             1.005      4.0    0.0          normal   \n",
       "4  51.0            80.0             1.010      2.0    0.0          normal   \n",
       "\n",
       "   pus_cell pus_cell_clumps    bacteria  blood_glucose_random  blood_urea  \\\n",
       "0    normal      notpresent  notpresent                 121.0        36.0   \n",
       "1    normal      notpresent  notpresent                   NaN        18.0   \n",
       "2    normal      notpresent  notpresent                 423.0        53.0   \n",
       "3  abnormal         present  notpresent                 117.0        56.0   \n",
       "4    normal      notpresent  notpresent                 106.0        26.0   \n",
       "\n",
       "   serum_creatinine  sodium  potassium  haemoglobin packed_cell_volume  \\\n",
       "0               1.2     NaN        NaN         15.4                 44   \n",
       "1               0.8     NaN        NaN         11.3                 38   \n",
       "2               1.8     NaN        NaN          9.6                 31   \n",
       "3               3.8   111.0        2.5         11.2                 32   \n",
       "4               1.4     NaN        NaN         11.6                 35   \n",
       "\n",
       "  white_blood_cell_count red_blood_cell_count hypertension diabetes_mellitus  \\\n",
       "0                   7800                  5.2          yes               yes   \n",
       "1                   6000                  NaN           no                no   \n",
       "2                   7500                  NaN           no               yes   \n",
       "3                   6700                  3.9          yes                no   \n",
       "4                   7300                  4.6           no                no   \n",
       "\n",
       "  coronary_artery_disease appetite peda_edema aanemia class  \n",
       "0                      no     good         no      no   ckd  \n",
       "1                      no     good         no      no   ckd  \n",
       "2                      no     poor         no     yes   ckd  \n",
       "3                      no     poor        yes     yes   ckd  \n",
       "4                      no     good         no      no   ckd  "
      ]
     },
     "execution_count": 42,
     "metadata": {},
     "output_type": "execute_result"
    }
   ],
   "source": [
    "df.head()"
   ]
  },
  {
   "cell_type": "code",
   "execution_count": 43,
   "id": "82fca848",
   "metadata": {
    "execution": {
     "iopub.execute_input": "2021-08-03T10:26:49.396456Z",
     "iopub.status.busy": "2021-08-03T10:26:49.395812Z",
     "iopub.status.idle": "2021-08-03T10:26:49.434980Z",
     "shell.execute_reply": "2021-08-03T10:26:49.435459Z",
     "shell.execute_reply.started": "2021-08-03T10:09:01.481253Z"
    },
    "papermill": {
     "duration": 0.118516,
     "end_time": "2021-08-03T10:26:49.435620",
     "exception": false,
     "start_time": "2021-08-03T10:26:49.317104",
     "status": "completed"
    },
    "tags": []
   },
   "outputs": [
    {
     "data": {
      "text/html": [
       "<div>\n",
       "<style scoped>\n",
       "    .dataframe tbody tr th:only-of-type {\n",
       "        vertical-align: middle;\n",
       "    }\n",
       "\n",
       "    .dataframe tbody tr th {\n",
       "        vertical-align: top;\n",
       "    }\n",
       "\n",
       "    .dataframe thead th {\n",
       "        text-align: right;\n",
       "    }\n",
       "</style>\n",
       "<table border=\"1\" class=\"dataframe\">\n",
       "  <thead>\n",
       "    <tr style=\"text-align: right;\">\n",
       "      <th></th>\n",
       "      <th>age</th>\n",
       "      <th>blood_pressure</th>\n",
       "      <th>specific_gravity</th>\n",
       "      <th>albumin</th>\n",
       "      <th>sugar</th>\n",
       "      <th>blood_glucose_random</th>\n",
       "      <th>blood_urea</th>\n",
       "      <th>serum_creatinine</th>\n",
       "      <th>sodium</th>\n",
       "      <th>potassium</th>\n",
       "      <th>haemoglobin</th>\n",
       "    </tr>\n",
       "  </thead>\n",
       "  <tbody>\n",
       "    <tr>\n",
       "      <th>count</th>\n",
       "      <td>391.000000</td>\n",
       "      <td>388.000000</td>\n",
       "      <td>353.000000</td>\n",
       "      <td>354.000000</td>\n",
       "      <td>351.000000</td>\n",
       "      <td>356.000000</td>\n",
       "      <td>381.000000</td>\n",
       "      <td>383.000000</td>\n",
       "      <td>313.000000</td>\n",
       "      <td>312.000000</td>\n",
       "      <td>348.000000</td>\n",
       "    </tr>\n",
       "    <tr>\n",
       "      <th>mean</th>\n",
       "      <td>51.483376</td>\n",
       "      <td>76.469072</td>\n",
       "      <td>1.017408</td>\n",
       "      <td>1.016949</td>\n",
       "      <td>0.450142</td>\n",
       "      <td>148.036517</td>\n",
       "      <td>57.425722</td>\n",
       "      <td>3.072454</td>\n",
       "      <td>137.528754</td>\n",
       "      <td>4.627244</td>\n",
       "      <td>12.526437</td>\n",
       "    </tr>\n",
       "    <tr>\n",
       "      <th>std</th>\n",
       "      <td>17.169714</td>\n",
       "      <td>13.683637</td>\n",
       "      <td>0.005717</td>\n",
       "      <td>1.352679</td>\n",
       "      <td>1.099191</td>\n",
       "      <td>79.281714</td>\n",
       "      <td>50.503006</td>\n",
       "      <td>5.741126</td>\n",
       "      <td>10.408752</td>\n",
       "      <td>3.193904</td>\n",
       "      <td>2.912587</td>\n",
       "    </tr>\n",
       "    <tr>\n",
       "      <th>min</th>\n",
       "      <td>2.000000</td>\n",
       "      <td>50.000000</td>\n",
       "      <td>1.005000</td>\n",
       "      <td>0.000000</td>\n",
       "      <td>0.000000</td>\n",
       "      <td>22.000000</td>\n",
       "      <td>1.500000</td>\n",
       "      <td>0.400000</td>\n",
       "      <td>4.500000</td>\n",
       "      <td>2.500000</td>\n",
       "      <td>3.100000</td>\n",
       "    </tr>\n",
       "    <tr>\n",
       "      <th>25%</th>\n",
       "      <td>42.000000</td>\n",
       "      <td>70.000000</td>\n",
       "      <td>1.010000</td>\n",
       "      <td>0.000000</td>\n",
       "      <td>0.000000</td>\n",
       "      <td>99.000000</td>\n",
       "      <td>27.000000</td>\n",
       "      <td>0.900000</td>\n",
       "      <td>135.000000</td>\n",
       "      <td>3.800000</td>\n",
       "      <td>10.300000</td>\n",
       "    </tr>\n",
       "    <tr>\n",
       "      <th>50%</th>\n",
       "      <td>55.000000</td>\n",
       "      <td>80.000000</td>\n",
       "      <td>1.020000</td>\n",
       "      <td>0.000000</td>\n",
       "      <td>0.000000</td>\n",
       "      <td>121.000000</td>\n",
       "      <td>42.000000</td>\n",
       "      <td>1.300000</td>\n",
       "      <td>138.000000</td>\n",
       "      <td>4.400000</td>\n",
       "      <td>12.650000</td>\n",
       "    </tr>\n",
       "    <tr>\n",
       "      <th>75%</th>\n",
       "      <td>64.500000</td>\n",
       "      <td>80.000000</td>\n",
       "      <td>1.020000</td>\n",
       "      <td>2.000000</td>\n",
       "      <td>0.000000</td>\n",
       "      <td>163.000000</td>\n",
       "      <td>66.000000</td>\n",
       "      <td>2.800000</td>\n",
       "      <td>142.000000</td>\n",
       "      <td>4.900000</td>\n",
       "      <td>15.000000</td>\n",
       "    </tr>\n",
       "    <tr>\n",
       "      <th>max</th>\n",
       "      <td>90.000000</td>\n",
       "      <td>180.000000</td>\n",
       "      <td>1.025000</td>\n",
       "      <td>5.000000</td>\n",
       "      <td>5.000000</td>\n",
       "      <td>490.000000</td>\n",
       "      <td>391.000000</td>\n",
       "      <td>76.000000</td>\n",
       "      <td>163.000000</td>\n",
       "      <td>47.000000</td>\n",
       "      <td>17.800000</td>\n",
       "    </tr>\n",
       "  </tbody>\n",
       "</table>\n",
       "</div>"
      ],
      "text/plain": [
       "              age  blood_pressure  specific_gravity     albumin       sugar  \\\n",
       "count  391.000000      388.000000        353.000000  354.000000  351.000000   \n",
       "mean    51.483376       76.469072          1.017408    1.016949    0.450142   \n",
       "std     17.169714       13.683637          0.005717    1.352679    1.099191   \n",
       "min      2.000000       50.000000          1.005000    0.000000    0.000000   \n",
       "25%     42.000000       70.000000          1.010000    0.000000    0.000000   \n",
       "50%     55.000000       80.000000          1.020000    0.000000    0.000000   \n",
       "75%     64.500000       80.000000          1.020000    2.000000    0.000000   \n",
       "max     90.000000      180.000000          1.025000    5.000000    5.000000   \n",
       "\n",
       "       blood_glucose_random  blood_urea  serum_creatinine      sodium  \\\n",
       "count            356.000000  381.000000        383.000000  313.000000   \n",
       "mean             148.036517   57.425722          3.072454  137.528754   \n",
       "std               79.281714   50.503006          5.741126   10.408752   \n",
       "min               22.000000    1.500000          0.400000    4.500000   \n",
       "25%               99.000000   27.000000          0.900000  135.000000   \n",
       "50%              121.000000   42.000000          1.300000  138.000000   \n",
       "75%              163.000000   66.000000          2.800000  142.000000   \n",
       "max              490.000000  391.000000         76.000000  163.000000   \n",
       "\n",
       "        potassium  haemoglobin  \n",
       "count  312.000000   348.000000  \n",
       "mean     4.627244    12.526437  \n",
       "std      3.193904     2.912587  \n",
       "min      2.500000     3.100000  \n",
       "25%      3.800000    10.300000  \n",
       "50%      4.400000    12.650000  \n",
       "75%      4.900000    15.000000  \n",
       "max     47.000000    17.800000  "
      ]
     },
     "execution_count": 43,
     "metadata": {},
     "output_type": "execute_result"
    }
   ],
   "source": [
    "df.describe()"
   ]
  },
  {
   "cell_type": "code",
   "execution_count": 44,
   "id": "76413f53",
   "metadata": {
    "execution": {
     "iopub.execute_input": "2021-08-03T10:26:49.599962Z",
     "iopub.status.busy": "2021-08-03T10:26:49.599215Z",
     "iopub.status.idle": "2021-08-03T10:26:49.603413Z",
     "shell.execute_reply": "2021-08-03T10:26:49.602793Z",
     "shell.execute_reply.started": "2021-08-03T10:09:01.531546Z"
    },
    "papermill": {
     "duration": 0.094965,
     "end_time": "2021-08-03T10:26:49.603561",
     "exception": false,
     "start_time": "2021-08-03T10:26:49.508596",
     "status": "completed"
    },
    "tags": []
   },
   "outputs": [
    {
     "name": "stdout",
     "output_type": "stream",
     "text": [
      "<class 'pandas.core.frame.DataFrame'>\n",
      "RangeIndex: 400 entries, 0 to 399\n",
      "Data columns (total 25 columns):\n",
      " #   Column                   Non-Null Count  Dtype  \n",
      "---  ------                   --------------  -----  \n",
      " 0   age                      391 non-null    float64\n",
      " 1   blood_pressure           388 non-null    float64\n",
      " 2   specific_gravity         353 non-null    float64\n",
      " 3   albumin                  354 non-null    float64\n",
      " 4   sugar                    351 non-null    float64\n",
      " 5   red_blood_cells          248 non-null    object \n",
      " 6   pus_cell                 335 non-null    object \n",
      " 7   pus_cell_clumps          396 non-null    object \n",
      " 8   bacteria                 396 non-null    object \n",
      " 9   blood_glucose_random     356 non-null    float64\n",
      " 10  blood_urea               381 non-null    float64\n",
      " 11  serum_creatinine         383 non-null    float64\n",
      " 12  sodium                   313 non-null    float64\n",
      " 13  potassium                312 non-null    float64\n",
      " 14  haemoglobin              348 non-null    float64\n",
      " 15  packed_cell_volume       330 non-null    object \n",
      " 16  white_blood_cell_count   295 non-null    object \n",
      " 17  red_blood_cell_count     270 non-null    object \n",
      " 18  hypertension             398 non-null    object \n",
      " 19  diabetes_mellitus        398 non-null    object \n",
      " 20  coronary_artery_disease  398 non-null    object \n",
      " 21  appetite                 399 non-null    object \n",
      " 22  peda_edema               399 non-null    object \n",
      " 23  aanemia                  399 non-null    object \n",
      " 24  class                    400 non-null    object \n",
      "dtypes: float64(11), object(14)\n",
      "memory usage: 78.2+ KB\n"
     ]
    }
   ],
   "source": [
    "df.info()"
   ]
  },
  {
   "cell_type": "code",
   "execution_count": 45,
   "id": "8f28e32f",
   "metadata": {
    "execution": {
     "iopub.execute_input": "2021-08-03T10:26:49.902331Z",
     "iopub.status.busy": "2021-08-03T10:26:49.901626Z",
     "iopub.status.idle": "2021-08-03T10:26:49.904380Z",
     "shell.execute_reply": "2021-08-03T10:26:49.903919Z",
     "shell.execute_reply.started": "2021-08-03T10:09:01.549774Z"
    },
    "papermill": {
     "duration": 0.083074,
     "end_time": "2021-08-03T10:26:49.904522",
     "exception": false,
     "start_time": "2021-08-03T10:26:49.821448",
     "status": "completed"
    },
    "tags": []
   },
   "outputs": [],
   "source": [
    "\n",
    "df['packed_cell_volume'] = pd.to_numeric(df['packed_cell_volume'], errors='coerce')\n",
    "df['white_blood_cell_count'] = pd.to_numeric(df['white_blood_cell_count'], errors='coerce')\n",
    "df['red_blood_cell_count'] = pd.to_numeric(df['red_blood_cell_count'], errors='coerce')"
   ]
  },
  {
   "cell_type": "code",
   "execution_count": 46,
   "id": "61b30220",
   "metadata": {
    "execution": {
     "iopub.execute_input": "2021-08-03T10:26:50.066362Z",
     "iopub.status.busy": "2021-08-03T10:26:50.065676Z",
     "iopub.status.idle": "2021-08-03T10:26:50.069928Z",
     "shell.execute_reply": "2021-08-03T10:26:50.069217Z",
     "shell.execute_reply.started": "2021-08-03T10:09:01.563548Z"
    },
    "papermill": {
     "duration": 0.092811,
     "end_time": "2021-08-03T10:26:50.070111",
     "exception": false,
     "start_time": "2021-08-03T10:26:49.977300",
     "status": "completed"
    },
    "tags": []
   },
   "outputs": [
    {
     "name": "stdout",
     "output_type": "stream",
     "text": [
      "<class 'pandas.core.frame.DataFrame'>\n",
      "RangeIndex: 400 entries, 0 to 399\n",
      "Data columns (total 25 columns):\n",
      " #   Column                   Non-Null Count  Dtype  \n",
      "---  ------                   --------------  -----  \n",
      " 0   age                      391 non-null    float64\n",
      " 1   blood_pressure           388 non-null    float64\n",
      " 2   specific_gravity         353 non-null    float64\n",
      " 3   albumin                  354 non-null    float64\n",
      " 4   sugar                    351 non-null    float64\n",
      " 5   red_blood_cells          248 non-null    object \n",
      " 6   pus_cell                 335 non-null    object \n",
      " 7   pus_cell_clumps          396 non-null    object \n",
      " 8   bacteria                 396 non-null    object \n",
      " 9   blood_glucose_random     356 non-null    float64\n",
      " 10  blood_urea               381 non-null    float64\n",
      " 11  serum_creatinine         383 non-null    float64\n",
      " 12  sodium                   313 non-null    float64\n",
      " 13  potassium                312 non-null    float64\n",
      " 14  haemoglobin              348 non-null    float64\n",
      " 15  packed_cell_volume       329 non-null    float64\n",
      " 16  white_blood_cell_count   294 non-null    float64\n",
      " 17  red_blood_cell_count     269 non-null    float64\n",
      " 18  hypertension             398 non-null    object \n",
      " 19  diabetes_mellitus        398 non-null    object \n",
      " 20  coronary_artery_disease  398 non-null    object \n",
      " 21  appetite                 399 non-null    object \n",
      " 22  peda_edema               399 non-null    object \n",
      " 23  aanemia                  399 non-null    object \n",
      " 24  class                    400 non-null    object \n",
      "dtypes: float64(14), object(11)\n",
      "memory usage: 78.2+ KB\n"
     ]
    }
   ],
   "source": [
    "df.info()"
   ]
  },
  {
   "cell_type": "code",
   "execution_count": 47,
   "id": "c419242f",
   "metadata": {
    "execution": {
     "iopub.execute_input": "2021-08-03T10:26:50.223748Z",
     "iopub.status.busy": "2021-08-03T10:26:50.223063Z",
     "iopub.status.idle": "2021-08-03T10:26:50.225817Z",
     "shell.execute_reply": "2021-08-03T10:26:50.225321Z",
     "shell.execute_reply.started": "2021-08-03T10:09:01.582692Z"
    },
    "papermill": {
     "duration": 0.081228,
     "end_time": "2021-08-03T10:26:50.225955",
     "exception": false,
     "start_time": "2021-08-03T10:26:50.144727",
     "status": "completed"
    },
    "tags": []
   },
   "outputs": [],
   "source": [
    "\n",
    "cat_cols = [col for col in df.columns if df[col].dtype == 'object']\n",
    "num_cols = [col for col in df.columns if df[col].dtype != 'object']"
   ]
  },
  {
   "cell_type": "code",
   "execution_count": 48,
   "id": "f754b17f",
   "metadata": {
    "execution": {
     "iopub.execute_input": "2021-08-03T10:26:50.379409Z",
     "iopub.status.busy": "2021-08-03T10:26:50.378737Z",
     "iopub.status.idle": "2021-08-03T10:26:50.382790Z",
     "shell.execute_reply": "2021-08-03T10:26:50.382136Z",
     "shell.execute_reply.started": "2021-08-03T10:09:01.591181Z"
    },
    "papermill": {
     "duration": 0.083961,
     "end_time": "2021-08-03T10:26:50.382941",
     "exception": false,
     "start_time": "2021-08-03T10:26:50.298980",
     "status": "completed"
    },
    "tags": []
   },
   "outputs": [
    {
     "name": "stdout",
     "output_type": "stream",
     "text": [
      "red_blood_cells has [nan 'normal' 'abnormal'] values\n",
      "\n",
      "pus_cell has ['normal' 'abnormal' nan] values\n",
      "\n",
      "pus_cell_clumps has ['notpresent' 'present' nan] values\n",
      "\n",
      "bacteria has ['notpresent' 'present' nan] values\n",
      "\n",
      "hypertension has ['yes' 'no' nan] values\n",
      "\n",
      "diabetes_mellitus has ['yes' 'no' ' yes' '\\tno' '\\tyes' nan] values\n",
      "\n",
      "coronary_artery_disease has ['no' 'yes' '\\tno' nan] values\n",
      "\n",
      "appetite has ['good' 'poor' nan] values\n",
      "\n",
      "peda_edema has ['no' 'yes' nan] values\n",
      "\n",
      "aanemia has ['no' 'yes' nan] values\n",
      "\n",
      "class has ['ckd' 'ckd\\t' 'notckd'] values\n",
      "\n"
     ]
    }
   ],
   "source": [
    "\n",
    "for col in cat_cols:\n",
    "    print(f\"{col} has {df[col].unique()} values\\n\")"
   ]
  },
  {
   "cell_type": "code",
   "execution_count": 49,
   "id": "9685ff4a",
   "metadata": {
    "execution": {
     "iopub.execute_input": "2021-08-03T10:26:50.687621Z",
     "iopub.status.busy": "2021-08-03T10:26:50.686998Z",
     "iopub.status.idle": "2021-08-03T10:26:50.689742Z",
     "shell.execute_reply": "2021-08-03T10:26:50.689232Z",
     "shell.execute_reply.started": "2021-08-03T10:09:01.602242Z"
    },
    "papermill": {
     "duration": 0.084758,
     "end_time": "2021-08-03T10:26:50.689885",
     "exception": false,
     "start_time": "2021-08-03T10:26:50.605127",
     "status": "completed"
    },
    "tags": []
   },
   "outputs": [],
   "source": [
    "\n",
    "df['diabetes_mellitus'].replace(to_replace = {'\\tno':'no','\\tyes':'yes',' yes':'yes'},inplace=True)\n",
    "\n",
    "df['coronary_artery_disease'] = df['coronary_artery_disease'].replace(to_replace = '\\tno', value='no')\n",
    "\n",
    "df['class'] = df['class'].replace(to_replace = {'ckd\\t': 'ckd', 'notckd': 'not ckd'})"
   ]
  },
  {
   "cell_type": "code",
   "execution_count": 50,
   "id": "223ae9c3",
   "metadata": {
    "execution": {
     "iopub.execute_input": "2021-08-03T10:26:50.845512Z",
     "iopub.status.busy": "2021-08-03T10:26:50.844875Z",
     "iopub.status.idle": "2021-08-03T10:26:50.849393Z",
     "shell.execute_reply": "2021-08-03T10:26:50.848885Z",
     "shell.execute_reply.started": "2021-08-03T10:09:01.615709Z"
    },
    "papermill": {
     "duration": 0.085716,
     "end_time": "2021-08-03T10:26:50.849530",
     "exception": false,
     "start_time": "2021-08-03T10:26:50.763814",
     "status": "completed"
    },
    "tags": []
   },
   "outputs": [],
   "source": [
    "df['class'] = df['class'].map({'ckd': 0, 'not ckd': 1})\n",
    "df['class'] = pd.to_numeric(df['class'], errors='coerce')"
   ]
  },
  {
   "cell_type": "code",
   "execution_count": 51,
   "id": "16e7f4b5",
   "metadata": {
    "execution": {
     "iopub.execute_input": "2021-08-03T10:26:51.005315Z",
     "iopub.status.busy": "2021-08-03T10:26:51.004637Z",
     "iopub.status.idle": "2021-08-03T10:26:51.008157Z",
     "shell.execute_reply": "2021-08-03T10:26:51.008598Z",
     "shell.execute_reply.started": "2021-08-03T10:09:01.630452Z"
    },
    "papermill": {
     "duration": 0.084823,
     "end_time": "2021-08-03T10:26:51.008781",
     "exception": false,
     "start_time": "2021-08-03T10:26:50.923958",
     "status": "completed"
    },
    "tags": []
   },
   "outputs": [
    {
     "name": "stdout",
     "output_type": "stream",
     "text": [
      "diabetes_mellitus has ['yes' 'no' nan] values\n",
      "\n",
      "coronary_artery_disease has ['no' 'yes' nan] values\n",
      "\n",
      "class has [0 1] values\n",
      "\n"
     ]
    }
   ],
   "source": [
    "cols = ['diabetes_mellitus', 'coronary_artery_disease', 'class']\n",
    "\n",
    "for col in cols:\n",
    "    print(f\"{col} has {df[col].unique()} values\\n\")"
   ]
  },
  {
   "cell_type": "code",
   "execution_count": 52,
   "id": "8730f87e",
   "metadata": {
    "execution": {
     "iopub.execute_input": "2021-08-03T10:26:51.179216Z",
     "iopub.status.busy": "2021-08-03T10:26:51.178555Z",
     "iopub.status.idle": "2021-08-03T10:26:54.697225Z",
     "shell.execute_reply": "2021-08-03T10:26:54.696054Z",
     "shell.execute_reply.started": "2021-08-03T10:09:01.643138Z"
    },
    "papermill": {
     "duration": 3.614873,
     "end_time": "2021-08-03T10:26:54.697367",
     "exception": false,
     "start_time": "2021-08-03T10:26:51.082494",
     "status": "completed"
    },
    "tags": []
   },
   "outputs": [
    {
     "data": {
      "image/png": "[encoded data removed]",
      "text/plain": [
       "<Figure size 2000x1500 with 14 Axes>"
      ]
     },
     "metadata": {},
     "output_type": "display_data"
    }
   ],
   "source": [
    "\n",
    "plt.figure(figsize = (20, 15))\n",
    "plotnumber = 1\n",
    "\n",
    "for column in num_cols:\n",
    "    if plotnumber <= 14:\n",
    "        ax = plt.subplot(3, 5, plotnumber)\n",
    "        sns.distplot(df[column])\n",
    "        plt.xlabel(column)\n",
    "        \n",
    "    plotnumber += 1\n",
    "\n",
    "plt.tight_layout()\n",
    "plt.show()"
   ]
  },
  {
   "cell_type": "code",
   "execution_count": 53,
   "id": "dc853a8e",
   "metadata": {
    "execution": {
     "iopub.execute_input": "2021-08-03T10:26:57.891926Z",
     "iopub.status.busy": "2021-08-03T10:26:57.890978Z",
     "iopub.status.idle": "2021-08-03T10:26:57.897915Z",
     "shell.execute_reply": "2021-08-03T10:26:57.897337Z",
     "shell.execute_reply.started": "2021-08-03T10:09:07.459373Z"
    },
    "papermill": {
     "duration": 0.108845,
     "end_time": "2021-08-03T10:26:57.898066",
     "exception": false,
     "start_time": "2021-08-03T10:26:57.789221",
     "status": "completed"
    },
    "tags": []
   },
   "outputs": [
    {
     "data": {
      "text/plain": [
       "Index(['age', 'blood_pressure', 'specific_gravity', 'albumin', 'sugar',\n",
       "       'red_blood_cells', 'pus_cell', 'pus_cell_clumps', 'bacteria',\n",
       "       'blood_glucose_random', 'blood_urea', 'serum_creatinine', 'sodium',\n",
       "       'potassium', 'haemoglobin', 'packed_cell_volume',\n",
       "       'white_blood_cell_count', 'red_blood_cell_count', 'hypertension',\n",
       "       'diabetes_mellitus', 'coronary_artery_disease', 'appetite',\n",
       "       'peda_edema', 'aanemia', 'class'],\n",
       "      dtype='object')"
      ]
     },
     "execution_count": 53,
     "metadata": {},
     "output_type": "execute_result"
    }
   ],
   "source": [
    "df.columns"
   ]
  },
  {
   "cell_type": "code",
   "execution_count": 54,
   "id": "967d82e4",
   "metadata": {
    "execution": {
     "iopub.execute_input": "2021-08-03T10:26:58.254811Z",
     "iopub.status.busy": "2021-08-03T10:26:58.254128Z",
     "iopub.status.idle": "2021-08-03T10:26:58.256153Z",
     "shell.execute_reply": "2021-08-03T10:26:58.256633Z",
     "shell.execute_reply.started": "2021-08-03T10:09:07.466588Z"
    },
    "papermill": {
     "duration": 0.094623,
     "end_time": "2021-08-03T10:26:58.256821",
     "exception": false,
     "start_time": "2021-08-03T10:26:58.162198",
     "status": "completed"
    },
    "tags": []
   },
   "outputs": [],
   "source": [
    "\n",
    "def violin(col):\n",
    "    fig = px.violin(df, y=col, x=\"class\", color=\"class\", box=True, template = 'plotly_dark')\n",
    "    return fig.show()\n",
    "\n",
    "def kde(col):\n",
    "    grid = sns.FacetGrid(df, hue=\"class\", height = 6, aspect=2)\n",
    "    grid.map(sns.kdeplot, col)\n",
    "    grid.add_legend()\n",
    "    \n",
    "def scatter(col1, col2):\n",
    "    fig = px.scatter(df, x=col1, y=col2, color=\"class\", template = 'plotly_dark')\n",
    "    return fig.show()"
   ]
  },
  {
   "cell_type": "code",
   "execution_count": 55,
   "id": "ec62d7f3",
   "metadata": {
    "execution": {
     "iopub.execute_input": "2021-08-03T10:26:58.429308Z",
     "iopub.status.busy": "2021-08-03T10:26:58.428697Z",
     "iopub.status.idle": "2021-08-03T10:26:59.576061Z",
     "shell.execute_reply": "2021-08-03T10:26:59.575393Z",
     "shell.execute_reply.started": "2021-08-03T10:09:07.476743Z"
    },
    "papermill": {
     "duration": 1.23421,
     "end_time": "2021-08-03T10:26:59.576202",
     "exception": false,
     "start_time": "2021-08-03T10:26:58.341992",
     "status": "completed"
    },
    "tags": []
   },
   "outputs": [
    {
     "data": {
      "application/vnd.plotly.v1+json": {
       "config": {
        "plotlyServerURL": "https://plot.ly"
       },
       "data": [
        {
         "alignmentgroup": "True",
         "box": {
          "visible": true
         },
         "hovertemplate": "class=%{x}<br>red_blood_cell_count=%{y}<extra></extra>",
         "legendgroup": "0",
         "marker": {
          "color": "#636efa"
         },
         "name": "0",
         "offsetgroup": "0",
         "orientation": "v",
         "scalegroup": "True",
         "showlegend": true,
         "type": "violin",
         "x": [
          0,
          0,
          0,
          0,
          0,
          0,
          0,
          0,
          0,
          0,
          0,
          0,
          0,
          0,
          0,
          0,
          0,
          0,
          0,
          0,
          0,
          0,
          0,
          0,
          0,
          0,
          0,
          0,
          0,
          0,
          0,
          0,
          0,
          0,
          0,
          0,
          0,
          0,
          0,
          0,
          0,
          0,
          0,
          0,
          0,
          0,
          0,
          0,
          0,
          0,
          0,
          0,
          0,
          0,
          0,
          0,
          0,
          0,
          0,
          0,
          0,
          0,
          0,
          0,
          0,
          0,
          0,
          0,
          0,
          0,
          0,
          0,
          0,
          0,
          0,
          0,
          0,
          0,
          0,
          0,
          0,
          0,
          0,
          0,
          0,
          0,
          0,
          0,
          0,
          0,
          0,
          0,
          0,
          0,
          0,
          0,
          0,
          0,
          0,
          0,
          0,
          0,
          0,
          0,
          0,
          0,
          0,
          0,
          0,
          0,
          0,
          0,
          0,
          0,
          0,
          0,
          0,
          0,
          0,
          0,
          0,
          0,
          0,
          0,
          0,
          0,
          0,
          0,
          0,
          0,
          0,
          0,
          0,
          0,
          0,
          0,
          0,
          0,
          0,
          0,
          0,
          0,
          0,
          0,
          0,
          0,
          0,
          0,
          0,
          0,
          0,
          0,
          0,
          0,
          0,
          0,
          0,
          0,
          0,
          0,
          0,
          0,
          0,
          0,
          0,
          0,
          0,
          0,
          0,
          0,
          0,
          0,
          0,
          0,
          0,
          0,
          0,
          0,
          0,
          0,
          0,
          0,
          0,
          0,
          0,
          0,
          0,
          0,
          0,
          0,
          0,
          0,
          0,
          0,
          0,
          0,
          0,
          0,
          0,
          0,
          0,
          0,
          0,
          0,
          0,
          0,
          0,
          0,
          0,
          0,
          0,
          0,
          0,
          0,
          0,
          0,
          0,
          0,
          0,
          0,
          0,
          0,
          0,
          0,
          0,
          0,
          0,
          0,
          0,
          0,
          0,
          0,
          0,
          0,
          0,
          0,
          0,
          0,
          0,
          0,
          0,
          0,
          0,
          0,
          0,
          0,
          0,
          0,
          0,
          0
         ],
         "x0": " ",
         "xaxis": "x",
         "y": [
          5.2,
          null,
          null,
          3.9,
          4.6,
          4.4,
          null,
          5,
          4,
          3.7,
          null,
          3.8,
          3.4,
          null,
          2.6,
          2.8,
          null,
          null,
          4.3,
          3.7,
          3.2,
          3.6,
          3.4,
          null,
          4.6,
          3.7,
          4,
          4.1,
          null,
          null,
          null,
          4,
          4,
          null,
          null,
          4.9,
          null,
          2.5,
          null,
          4.2,
          4.1,
          null,
          4.5,
          3.1,
          null,
          null,
          4.7,
          null,
          3.5,
          3.5,
          3.8,
          null,
          3.7,
          4.7,
          4.2,
          null,
          3.4,
          null,
          4.3,
          null,
          null,
          null,
          3.8,
          null,
          null,
          null,
          null,
          null,
          null,
          6,
          5.2,
          3.2,
          null,
          null,
          3.4,
          null,
          4,
          3.7,
          null,
          5,
          3.8,
          3.7,
          null,
          null,
          2.1,
          null,
          null,
          5,
          4.7,
          null,
          4.2,
          5.6,
          3.6,
          3.2,
          3.9,
          null,
          null,
          4,
          2.3,
          4.2,
          null,
          3.9,
          null,
          4.2,
          null,
          5.2,
          null,
          4.4,
          4.2,
          null,
          4.7,
          3.9,
          null,
          null,
          null,
          4.3,
          null,
          4.4,
          null,
          null,
          null,
          null,
          null,
          null,
          3.6,
          null,
          4.5,
          4.3,
          2.9,
          null,
          2.7,
          null,
          2.7,
          8,
          3.8,
          null,
          null,
          null,
          null,
          null,
          null,
          null,
          null,
          null,
          4.1,
          3.3,
          null,
          3,
          null,
          null,
          null,
          null,
          null,
          2.9,
          3,
          null,
          null,
          3.9,
          null,
          4.3,
          2.4,
          4.8,
          null,
          3.2,
          5.4,
          null,
          null,
          null,
          null,
          null,
          4.4,
          3.1,
          4.9,
          null,
          4.6,
          3.4,
          3.9,
          null,
          null,
          null,
          null,
          3.7,
          null,
          null,
          3.6,
          null,
          null,
          null,
          null,
          3.4,
          4.8,
          3.4,
          null,
          2.8,
          null,
          null,
          3.5,
          3,
          3.9,
          3.2,
          3.9,
          null,
          null,
          null,
          null,
          null,
          null,
          4.6,
          4.9,
          null,
          3.9,
          null,
          3.4,
          3.7,
          5.2,
          null,
          null,
          4.3,
          null,
          3.3,
          null,
          null,
          null,
          4.6,
          null,
          4.5,
          3.4,
          3.8,
          null,
          3.8,
          null,
          null,
          null,
          null,
          5.2,
          null,
          null,
          null,
          null,
          null,
          4.1,
          3.9,
          3.3,
          6.1,
          4.6,
          2.6,
          2.5,
          null,
          4.1,
          2.1
         ],
         "y0": " ",
         "yaxis": "y"
        },
        {
         "alignmentgroup": "True",
         "box": {
          "visible": true
         },
         "hovertemplate": "class=%{x}<br>red_blood_cell_count=%{y}<extra></extra>",
         "legendgroup": "1",
         "marker": {
          "color": "#EF553B"
         },
         "name": "1",
         "offsetgroup": "1",
         "orientation": "v",
         "scalegroup": "True",
         "showlegend": true,
         "type": "violin",
         "x": [
          1,
          1,
          1,
          1,
          1,
          1,
          1,
          1,
          1,
          1,
          1,
          1,
          1,
          1,
          1,
          1,
          1,
          1,
          1,
          1,
          1,
          1,
          1,
          1,
          1,
          1,
          1,
          1,
          1,
          1,
          1,
          1,
          1,
          1,
          1,
          1,
          1,
          1,
          1,
          1,
          1,
          1,
          1,
          1,
          1,
          1,
          1,
          1,
          1,
          1,
          1,
          1,
          1,
          1,
          1,
          1,
          1,
          1,
          1,
          1,
          1,
          1,
          1,
          1,
          1,
          1,
          1,
          1,
          1,
          1,
          1,
          1,
          1,
          1,
          1,
          1,
          1,
          1,
          1,
          1,
          1,
          1,
          1,
          1,
          1,
          1,
          1,
          1,
          1,
          1,
          1,
          1,
          1,
          1,
          1,
          1,
          1,
          1,
          1,
          1,
          1,
          1,
          1,
          1,
          1,
          1,
          1,
          1,
          1,
          1,
          1,
          1,
          1,
          1,
          1,
          1,
          1,
          1,
          1,
          1,
          1,
          1,
          1,
          1,
          1,
          1,
          1,
          1,
          1,
          1,
          1,
          1,
          1,
          1,
          1,
          1,
          1,
          1,
          1,
          1,
          1,
          1,
          1,
          1,
          1,
          1,
          1,
          1,
          1,
          1
         ],
         "x0": " ",
         "xaxis": "x",
         "y": [
          4.5,
          5,
          4.7,
          6.2,
          5.2,
          6.3,
          5.1,
          5.8,
          5.5,
          5.2,
          5.3,
          4.9,
          5.4,
          5.2,
          4.5,
          5,
          5.3,
          4.8,
          4.9,
          5.3,
          5,
          4.5,
          5.5,
          null,
          null,
          4.6,
          5.5,
          4.8,
          6.4,
          5.6,
          5.2,
          6,
          4.8,
          5.7,
          6,
          5.9,
          6,
          null,
          5.1,
          5.3,
          5.9,
          5.7,
          5,
          5.4,
          5.8,
          6.5,
          5.9,
          5.2,
          4.9,
          4.7,
          5.8,
          5,
          null,
          6.1,
          4.5,
          5.2,
          5.7,
          4.5,
          4.9,
          5.9,
          5.4,
          5.6,
          6.1,
          4.8,
          4.7,
          4.4,
          5.2,
          4.9,
          5.3,
          null,
          6.2,
          4.8,
          4.9,
          4.5,
          null,
          6.5,
          5.2,
          5.8,
          6.5,
          5.1,
          null,
          4.5,
          6.1,
          5.5,
          4.5,
          5.6,
          5.2,
          6.2,
          4.5,
          4.9,
          5.9,
          4.7,
          6.3,
          5.7,
          4.7,
          6.4,
          5.8,
          5.5,
          6.4,
          6.1,
          4.5,
          4.7,
          5.2,
          4.5,
          5.1,
          4.6,
          6.1,
          4.9,
          5.6,
          4.5,
          6.2,
          5.8,
          4.8,
          5.2,
          4.7,
          6.3,
          5.3,
          6.1,
          5.9,
          4.8,
          5.4,
          5,
          5.5,
          4.9,
          6.4,
          5.6,
          5.2,
          4.8,
          5.5,
          5.7,
          4.9,
          5.9,
          6.5,
          5,
          4.5,
          5.1,
          6.5,
          5.2,
          6.4,
          5.8,
          5.3,
          6.3,
          5.5,
          5.4,
          4.6,
          4.9,
          6.2,
          5.4,
          5.9,
          6.1
         ],
         "y0": " ",
         "yaxis": "y"
        }
       ],
       "layout": {
        "legend": {
         "title": {
          "text": "class"
         },
         "tracegroupgap": 0
        },
        "margin": {
         "t": 60
        },
        "template": {
         "data": {
          "bar": [
           {
            "error_x": {
             "color": "#f2f5fa"
            },
            "error_y": {
             "color": "#f2f5fa"
            },
            "marker": {
             "line": {
              "color": "rgb(17,17,17)",
              "width": 0.5
             },
             "pattern": {
              "fillmode": "overlay",
              "size": 10,
              "solidity": 0.2
             }
            },
            "type": "bar"
           }
          ],
          "barpolar": [
           {
            "marker": {
             "line": {
              "color": "rgb(17,17,17)",
              "width": 0.5
             },
             "pattern": {
              "fillmode": "overlay",
              "size": 10,
              "solidity": 0.2
             }
            },
            "type": "barpolar"
           }
          ],
          "carpet": [
           {
            "aaxis": {
             "endlinecolor": "#A2B1C6",
             "gridcolor": "#506784",
             "linecolor": "#506784",
             "minorgridcolor": "#506784",
             "startlinecolor": "#A2B1C6"
            },
            "baxis": {
             "endlinecolor": "#A2B1C6",
             "gridcolor": "#506784",
             "linecolor": "#506784",
             "minorgridcolor": "#506784",
             "startlinecolor": "#A2B1C6"
            },
            "type": "carpet"
           }
          ],
          "choropleth": [
           {
            "colorbar": {
             "outlinewidth": 0,
             "ticks": ""
            },
            "type": "choropleth"
           }
          ],
          "contour": [
           {
            "colorbar": {
             "outlinewidth": 0,
             "ticks": ""
            },
            "colorscale": [
             [
              0,
              "#0d0887"
             ],
             [
              0.1111111111111111,
              "#46039f"
             ],
             [
              0.2222222222222222,
              "#7201a8"
             ],
             [
              0.3333333333333333,
              "#9c179e"
             ],
             [
              0.4444444444444444,
              "#bd3786"
             ],
             [
              0.5555555555555556,
              "#d8576b"
             ],
             [
              0.6666666666666666,
              "#ed7953"
             ],
             [
              0.7777777777777778,
              "#fb9f3a"
             ],
             [
              0.8888888888888888,
              "#fdca26"
             ],
             [
              1,
              "#f0f921"
             ]
            ],
            "type": "contour"
           }
          ],
          "contourcarpet": [
           {
            "colorbar": {
             "outlinewidth": 0,
             "ticks": ""
            },
            "type": "contourcarpet"
           }
          ],
          "heatmap": [
           {
            "colorbar": {
             "outlinewidth": 0,
             "ticks": ""
            },
            "colorscale": [
             [
              0,
              "#0d0887"
             ],
             [
              0.1111111111111111,
              "#46039f"
             ],
             [
              0.2222222222222222,
              "#7201a8"
             ],
             [
              0.3333333333333333,
              "#9c179e"
             ],
             [
              0.4444444444444444,
              "#bd3786"
             ],
             [
              0.5555555555555556,
              "#d8576b"
             ],
             [
              0.6666666666666666,
              "#ed7953"
             ],
             [
              0.7777777777777778,
              "#fb9f3a"
             ],
             [
              0.8888888888888888,
              "#fdca26"
             ],
             [
              1,
              "#f0f921"
             ]
            ],
            "type": "heatmap"
           }
          ],
          "heatmapgl": [
           {
            "colorbar": {
             "outlinewidth": 0,
             "ticks": ""
            },
            "colorscale": [
             [
              0,
              "#0d0887"
             ],
             [
              0.1111111111111111,
              "#46039f"
             ],
             [
              0.2222222222222222,
              "#7201a8"
             ],
             [
              0.3333333333333333,
              "#9c179e"
             ],
             [
              0.4444444444444444,
              "#bd3786"
             ],
             [
              0.5555555555555556,
              "#d8576b"
             ],
             [
              0.6666666666666666,
              "#ed7953"
             ],
             [
              0.7777777777777778,
              "#fb9f3a"
             ],
             [
              0.8888888888888888,
              "#fdca26"
             ],
             [
              1,
              "#f0f921"
             ]
            ],
            "type": "heatmapgl"
           }
          ],
          "histogram": [
           {
            "marker": {
             "pattern": {
              "fillmode": "overlay",
              "size": 10,
              "solidity": 0.2
             }
            },
            "type": "histogram"
           }
          ],
          "histogram2d": [
           {
            "colorbar": {
             "outlinewidth": 0,
             "ticks": ""
            },
            "colorscale": [
             [
              0,
              "#0d0887"
             ],
             [
              0.1111111111111111,
              "#46039f"
             ],
             [
              0.2222222222222222,
              "#7201a8"
             ],
             [
              0.3333333333333333,
              "#9c179e"
             ],
             [
              0.4444444444444444,
              "#bd3786"
             ],
             [
              0.5555555555555556,
              "#d8576b"
             ],
             [
              0.6666666666666666,
              "#ed7953"
             ],
             [
              0.7777777777777778,
              "#fb9f3a"
             ],
             [
              0.8888888888888888,
              "#fdca26"
             ],
             [
              1,
              "#f0f921"
             ]
            ],
            "type": "histogram2d"
           }
          ],
          "histogram2dcontour": [
           {
            "colorbar": {
             "outlinewidth": 0,
             "ticks": ""
            },
            "colorscale": [
             [
              0,
              "#0d0887"
             ],
             [
              0.1111111111111111,
              "#46039f"
             ],
             [
              0.2222222222222222,
              "#7201a8"
             ],
             [
              0.3333333333333333,
              "#9c179e"
             ],
             [
              0.4444444444444444,
              "#bd3786"
             ],
             [
              0.5555555555555556,
              "#d8576b"
             ],
             [
              0.6666666666666666,
              "#ed7953"
             ],
             [
              0.7777777777777778,
              "#fb9f3a"
             ],
             [
              0.8888888888888888,
              "#fdca26"
             ],
             [
              1,
              "#f0f921"
             ]
            ],
            "type": "histogram2dcontour"
           }
          ],
          "mesh3d": [
           {
            "colorbar": {
             "outlinewidth": 0,
             "ticks": ""
            },
            "type": "mesh3d"
           }
          ],
          "parcoords": [
           {
            "line": {
             "colorbar": {
              "outlinewidth": 0,
              "ticks": ""
             }
            },
            "type": "parcoords"
           }
          ],
          "pie": [
           {
            "automargin": true,
            "type": "pie"
           }
          ],
          "scatter": [
           {
            "marker": {
             "line": {
              "color": "#283442"
             }
            },
            "type": "scatter"
           }
          ],
          "scatter3d": [
           {
            "line": {
             "colorbar": {
              "outlinewidth": 0,
              "ticks": ""
             }
            },
            "marker": {
             "colorbar": {
              "outlinewidth": 0,
              "ticks": ""
             }
            },
            "type": "scatter3d"
           }
          ],
          "scattercarpet": [
           {
            "marker": {
             "colorbar": {
              "outlinewidth": 0,
              "ticks": ""
             }
            },
            "type": "scattercarpet"
           }
          ],
          "scattergeo": [
           {
            "marker": {
             "colorbar": {
              "outlinewidth": 0,
              "ticks": ""
             }
            },
            "type": "scattergeo"
           }
          ],
          "scattergl": [
           {
            "marker": {
             "line": {
              "color": "#283442"
             }
            },
            "type": "scattergl"
           }
          ],
          "scattermapbox": [
           {
            "marker": {
             "colorbar": {
              "outlinewidth": 0,
              "ticks": ""
             }
            },
            "type": "scattermapbox"
           }
          ],
          "scatterpolar": [
           {
            "marker": {
             "colorbar": {
              "outlinewidth": 0,
              "ticks": ""
             }
            },
            "type": "scatterpolar"
           }
          ],
          "scatterpolargl": [
           {
            "marker": {
             "colorbar": {
              "outlinewidth": 0,
              "ticks": ""
             }
            },
            "type": "scatterpolargl"
           }
          ],
          "scatterternary": [
           {
            "marker": {
             "colorbar": {
              "outlinewidth": 0,
              "ticks": ""
             }
            },
            "type": "scatterternary"
           }
          ],
          "surface": [
           {
            "colorbar": {
             "outlinewidth": 0,
             "ticks": ""
            },
            "colorscale": [
             [
              0,
              "#0d0887"
             ],
             [
              0.1111111111111111,
              "#46039f"
             ],
             [
              0.2222222222222222,
              "#7201a8"
             ],
             [
              0.3333333333333333,
              "#9c179e"
             ],
             [
              0.4444444444444444,
              "#bd3786"
             ],
             [
              0.5555555555555556,
              "#d8576b"
             ],
             [
              0.6666666666666666,
              "#ed7953"
             ],
             [
              0.7777777777777778,
              "#fb9f3a"
             ],
             [
              0.8888888888888888,
              "#fdca26"
             ],
             [
              1,
              "#f0f921"
             ]
            ],
            "type": "surface"
           }
          ],
          "table": [
           {
            "cells": {
             "fill": {
              "color": "#506784"
             },
             "line": {
              "color": "rgb(17,17,17)"
             }
            },
            "header": {
             "fill": {
              "color": "#2a3f5f"
             },
             "line": {
              "color": "rgb(17,17,17)"
             }
            },
            "type": "table"
           }
          ]
         },
         "layout": {
          "annotationdefaults": {
           "arrowcolor": "#f2f5fa",
           "arrowhead": 0,
           "arrowwidth": 1
          },
          "autotypenumbers": "strict",
          "coloraxis": {
           "colorbar": {
            "outlinewidth": 0,
            "ticks": ""
           }
          },
          "colorscale": {
           "diverging": [
            [
             0,
             "#8e0152"
            ],
            [
             0.1,
             "#c51b7d"
            ],
            [
             0.2,
             "#de77ae"
            ],
            [
             0.3,
             "#f1b6da"
            ],
            [
             0.4,
             "#fde0ef"
            ],
            [
             0.5,
             "#f7f7f7"
            ],
            [
             0.6,
             "#e6f5d0"
            ],
            [
             0.7,
             "#b8e186"
            ],
            [
             0.8,
             "#7fbc41"
            ],
            [
             0.9,
             "#4d9221"
            ],
            [
             1,
             "#276419"
            ]
           ],
           "sequential": [
            [
             0,
             "#0d0887"
            ],
            [
             0.1111111111111111,
             "#46039f"
            ],
            [
             0.2222222222222222,
             "#7201a8"
            ],
            [
             0.3333333333333333,
             "#9c179e"
            ],
            [
             0.4444444444444444,
             "#bd3786"
            ],
            [
             0.5555555555555556,
             "#d8576b"
            ],
            [
             0.6666666666666666,
             "#ed7953"
            ],
            [
             0.7777777777777778,
             "#fb9f3a"
            ],
            [
             0.8888888888888888,
             "#fdca26"
            ],
            [
             1,
             "#f0f921"
            ]
           ],
           "sequentialminus": [
            [
             0,
             "#0d0887"
            ],
            [
             0.1111111111111111,
             "#46039f"
            ],
            [
             0.2222222222222222,
             "#7201a8"
            ],
            [
             0.3333333333333333,
             "#9c179e"
            ],
            [
             0.4444444444444444,
             "#bd3786"
            ],
            [
             0.5555555555555556,
             "#d8576b"
            ],
            [
             0.6666666666666666,
             "#ed7953"
            ],
            [
             0.7777777777777778,
             "#fb9f3a"
            ],
            [
             0.8888888888888888,
             "#fdca26"
            ],
            [
             1,
             "#f0f921"
            ]
           ]
          },
          "colorway": [
           "#636efa",
           "#EF553B",
           "#00cc96",
           "#ab63fa",
           "#FFA15A",
           "#19d3f3",
           "#FF6692",
           "#B6E880",
           "#FF97FF",
           "#FECB52"
          ],
          "font": {
           "color": "#f2f5fa"
          },
          "geo": {
           "bgcolor": "rgb(17,17,17)",
           "lakecolor": "rgb(17,17,17)",
           "landcolor": "rgb(17,17,17)",
           "showlakes": true,
           "showland": true,
           "subunitcolor": "#506784"
          },
          "hoverlabel": {
           "align": "left"
          },
          "hovermode": "closest",
          "mapbox": {
           "style": "dark"
          },
          "paper_bgcolor": "rgb(17,17,17)",
          "plot_bgcolor": "rgb(17,17,17)",
          "polar": {
           "angularaxis": {
            "gridcolor": "#506784",
            "linecolor": "#506784",
            "ticks": ""
           },
           "bgcolor": "rgb(17,17,17)",
           "radialaxis": {
            "gridcolor": "#506784",
            "linecolor": "#506784",
            "ticks": ""
           }
          },
          "scene": {
           "xaxis": {
            "backgroundcolor": "rgb(17,17,17)",
            "gridcolor": "#506784",
            "gridwidth": 2,
            "linecolor": "#506784",
            "showbackground": true,
            "ticks": "",
            "zerolinecolor": "#C8D4E3"
           },
           "yaxis": {
            "backgroundcolor": "rgb(17,17,17)",
            "gridcolor": "#506784",
            "gridwidth": 2,
            "linecolor": "#506784",
            "showbackground": true,
            "ticks": "",
            "zerolinecolor": "#C8D4E3"
           },
           "zaxis": {
            "backgroundcolor": "rgb(17,17,17)",
            "gridcolor": "#506784",
            "gridwidth": 2,
            "linecolor": "#506784",
            "showbackground": true,
            "ticks": "",
            "zerolinecolor": "#C8D4E3"
           }
          },
          "shapedefaults": {
           "line": {
            "color": "#f2f5fa"
           }
          },
          "sliderdefaults": {
           "bgcolor": "#C8D4E3",
           "bordercolor": "rgb(17,17,17)",
           "borderwidth": 1,
           "tickwidth": 0
          },
          "ternary": {
           "aaxis": {
            "gridcolor": "#506784",
            "linecolor": "#506784",
            "ticks": ""
           },
           "baxis": {
            "gridcolor": "#506784",
            "linecolor": "#506784",
            "ticks": ""
           },
           "bgcolor": "rgb(17,17,17)",
           "caxis": {
            "gridcolor": "#506784",
            "linecolor": "#506784",
            "ticks": ""
           }
          },
          "title": {
           "x": 0.05
          },
          "updatemenudefaults": {
           "bgcolor": "#506784",
           "borderwidth": 0
          },
          "xaxis": {
           "automargin": true,
           "gridcolor": "#283442",
           "linecolor": "#506784",
           "ticks": "",
           "title": {
            "standoff": 15
           },
           "zerolinecolor": "#283442",
           "zerolinewidth": 2
          },
          "yaxis": {
           "automargin": true,
           "gridcolor": "#283442",
           "linecolor": "#506784",
           "ticks": "",
           "title": {
            "standoff": 15
           },
           "zerolinecolor": "#283442",
           "zerolinewidth": 2
          }
         }
        },
        "violinmode": "overlay",
        "xaxis": {
         "anchor": "y",
         "categoryarray": [
          0,
          1
         ],
         "categoryorder": "array",
         "domain": [
          0,
          1
         ],
         "title": {
          "text": "class"
         }
        },
        "yaxis": {
         "anchor": "x",
         "domain": [
          0,
          1
         ],
         "title": {
          "text": "red_blood_cell_count"
         }
        }
       }
      }
     },
     "metadata": {},
     "output_type": "display_data"
    }
   ],
   "source": [
    "violin('red_blood_cell_count')"
   ]
  },
  {
   "cell_type": "code",
   "execution_count": 56,
   "id": "d74513d0",
   "metadata": {
    "execution": {
     "iopub.execute_input": "2021-08-03T10:26:59.987129Z",
     "iopub.status.busy": "2021-08-03T10:26:59.986432Z",
     "iopub.status.idle": "2021-08-03T10:27:00.359086Z",
     "shell.execute_reply": "2021-08-03T10:27:00.358130Z",
     "shell.execute_reply.started": "2021-08-03T10:09:07.755457Z"
    },
    "papermill": {
     "duration": 0.696727,
     "end_time": "2021-08-03T10:27:00.359251",
     "exception": false,
     "start_time": "2021-08-03T10:26:59.662524",
     "status": "completed"
    },
    "tags": []
   },
   "outputs": [
    {
     "data": {
      "image/png": "[encoded data removed]",
      "text/plain": [
       "<Figure size 1282.38x600 with 1 Axes>"
      ]
     },
     "metadata": {},
     "output_type": "display_data"
    }
   ],
   "source": [
    "kde('red_blood_cell_count')"
   ]
  },
  {
   "cell_type": "code",
   "execution_count": 57,
   "id": "f80213d4",
   "metadata": {
    "execution": {
     "iopub.execute_input": "2021-08-03T10:27:10.363798Z",
     "iopub.status.busy": "2021-08-03T10:27:10.363133Z",
     "iopub.status.idle": "2021-08-03T10:27:10.365893Z",
     "shell.execute_reply": "2021-08-03T10:27:10.366474Z",
     "shell.execute_reply.started": "2021-08-03T10:09:12.290447Z"
    },
    "papermill": {
     "duration": 0.123788,
     "end_time": "2021-08-03T10:27:10.366637",
     "exception": false,
     "start_time": "2021-08-03T10:27:10.242849",
     "status": "completed"
    },
    "tags": []
   },
   "outputs": [
    {
     "data": {
      "text/plain": [
       "red_blood_cells            152\n",
       "red_blood_cell_count       131\n",
       "white_blood_cell_count     106\n",
       "potassium                   88\n",
       "sodium                      87\n",
       "packed_cell_volume          71\n",
       "pus_cell                    65\n",
       "haemoglobin                 52\n",
       "sugar                       49\n",
       "specific_gravity            47\n",
       "albumin                     46\n",
       "blood_glucose_random        44\n",
       "blood_urea                  19\n",
       "serum_creatinine            17\n",
       "blood_pressure              12\n",
       "age                          9\n",
       "bacteria                     4\n",
       "pus_cell_clumps              4\n",
       "hypertension                 2\n",
       "diabetes_mellitus            2\n",
       "coronary_artery_disease      2\n",
       "appetite                     1\n",
       "peda_edema                   1\n",
       "aanemia                      1\n",
       "class                        0\n",
       "dtype: int64"
      ]
     },
     "execution_count": 57,
     "metadata": {},
     "output_type": "execute_result"
    }
   ],
   "source": [
    "\n",
    "df.isna().sum().sort_values(ascending = False)"
   ]
  },
  {
   "cell_type": "code",
   "execution_count": 58,
   "id": "ba098c4d",
   "metadata": {
    "execution": {
     "iopub.execute_input": "2021-08-03T10:27:10.601845Z",
     "iopub.status.busy": "2021-08-03T10:27:10.601165Z",
     "iopub.status.idle": "2021-08-03T10:27:10.604705Z",
     "shell.execute_reply": "2021-08-03T10:27:10.604173Z",
     "shell.execute_reply.started": "2021-08-03T10:09:12.299622Z"
    },
    "papermill": {
     "duration": 0.126099,
     "end_time": "2021-08-03T10:27:10.604839",
     "exception": false,
     "start_time": "2021-08-03T10:27:10.478740",
     "status": "completed"
    },
    "tags": []
   },
   "outputs": [
    {
     "data": {
      "text/plain": [
       "age                         9\n",
       "blood_pressure             12\n",
       "specific_gravity           47\n",
       "albumin                    46\n",
       "sugar                      49\n",
       "blood_glucose_random       44\n",
       "blood_urea                 19\n",
       "serum_creatinine           17\n",
       "sodium                     87\n",
       "potassium                  88\n",
       "haemoglobin                52\n",
       "packed_cell_volume         71\n",
       "white_blood_cell_count    106\n",
       "red_blood_cell_count      131\n",
       "dtype: int64"
      ]
     },
     "execution_count": 58,
     "metadata": {},
     "output_type": "execute_result"
    }
   ],
   "source": [
    "df[num_cols].isnull().sum()"
   ]
  },
  {
   "cell_type": "code",
   "execution_count": 59,
   "id": "53fd363f",
   "metadata": {
    "execution": {
     "iopub.execute_input": "2021-08-03T10:27:10.840710Z",
     "iopub.status.busy": "2021-08-03T10:27:10.839875Z",
     "iopub.status.idle": "2021-08-03T10:27:10.843209Z",
     "shell.execute_reply": "2021-08-03T10:27:10.843774Z",
     "shell.execute_reply.started": "2021-08-03T10:09:12.313901Z"
    },
    "papermill": {
     "duration": 0.124901,
     "end_time": "2021-08-03T10:27:10.843945",
     "exception": false,
     "start_time": "2021-08-03T10:27:10.719044",
     "status": "completed"
    },
    "tags": []
   },
   "outputs": [
    {
     "data": {
      "text/plain": [
       "red_blood_cells            152\n",
       "pus_cell                    65\n",
       "pus_cell_clumps              4\n",
       "bacteria                     4\n",
       "hypertension                 2\n",
       "diabetes_mellitus            2\n",
       "coronary_artery_disease      2\n",
       "appetite                     1\n",
       "peda_edema                   1\n",
       "aanemia                      1\n",
       "class                        0\n",
       "dtype: int64"
      ]
     },
     "execution_count": 59,
     "metadata": {},
     "output_type": "execute_result"
    }
   ],
   "source": [
    "df[cat_cols].isnull().sum()"
   ]
  },
  {
   "cell_type": "code",
   "execution_count": 60,
   "id": "60a279ff",
   "metadata": {
    "execution": {
     "iopub.execute_input": "2021-08-03T10:27:11.074541Z",
     "iopub.status.busy": "2021-08-03T10:27:11.073494Z",
     "iopub.status.idle": "2021-08-03T10:27:11.079799Z",
     "shell.execute_reply": "2021-08-03T10:27:11.080308Z",
     "shell.execute_reply.started": "2021-08-03T10:09:12.329206Z"
    },
    "papermill": {
     "duration": 0.121529,
     "end_time": "2021-08-03T10:27:11.080479",
     "exception": false,
     "start_time": "2021-08-03T10:27:10.958950",
     "status": "completed"
    },
    "tags": []
   },
   "outputs": [],
   "source": [
    "\n",
    "def random_value_imputation(feature):\n",
    "    random_sample = df[feature].dropna().sample(df[feature].isna().sum())\n",
    "    random_sample.index = df[df[feature].isnull()].index\n",
    "    df.loc[df[feature].isnull(), feature] = random_sample\n",
    "    \n",
    "def impute_mode(feature):\n",
    "    mode = df[feature].mode()[0]\n",
    "    df[feature] = df[feature].fillna(mode)"
   ]
  },
  {
   "cell_type": "code",
   "execution_count": 61,
   "id": "8977f691",
   "metadata": {
    "execution": {
     "iopub.execute_input": "2021-08-03T10:27:11.323099Z",
     "iopub.status.busy": "2021-08-03T10:27:11.322433Z",
     "iopub.status.idle": "2021-08-03T10:27:11.340434Z",
     "shell.execute_reply": "2021-08-03T10:27:11.341020Z",
     "shell.execute_reply.started": "2021-08-03T10:09:12.339320Z"
    },
    "papermill": {
     "duration": 0.14567,
     "end_time": "2021-08-03T10:27:11.341199",
     "exception": false,
     "start_time": "2021-08-03T10:27:11.195529",
     "status": "completed"
    },
    "tags": []
   },
   "outputs": [],
   "source": [
    "\n",
    "for col in num_cols:\n",
    "    random_value_imputation(col)"
   ]
  },
  {
   "cell_type": "code",
   "execution_count": 62,
   "id": "2cae986d",
   "metadata": {},
   "outputs": [
    {
     "data": {
      "text/html": [
       "<div>\n",
       "<style scoped>\n",
       "    .dataframe tbody tr th:only-of-type {\n",
       "        vertical-align: middle;\n",
       "    }\n",
       "\n",
       "    .dataframe tbody tr th {\n",
       "        vertical-align: top;\n",
       "    }\n",
       "\n",
       "    .dataframe thead th {\n",
       "        text-align: right;\n",
       "    }\n",
       "</style>\n",
       "<table border=\"1\" class=\"dataframe\">\n",
       "  <thead>\n",
       "    <tr style=\"text-align: right;\">\n",
       "      <th></th>\n",
       "      <th>age</th>\n",
       "      <th>blood_pressure</th>\n",
       "      <th>specific_gravity</th>\n",
       "      <th>albumin</th>\n",
       "      <th>sugar</th>\n",
       "      <th>red_blood_cells</th>\n",
       "      <th>pus_cell</th>\n",
       "      <th>pus_cell_clumps</th>\n",
       "      <th>bacteria</th>\n",
       "      <th>blood_glucose_random</th>\n",
       "      <th>blood_urea</th>\n",
       "      <th>serum_creatinine</th>\n",
       "      <th>sodium</th>\n",
       "      <th>potassium</th>\n",
       "      <th>haemoglobin</th>\n",
       "      <th>packed_cell_volume</th>\n",
       "      <th>white_blood_cell_count</th>\n",
       "      <th>red_blood_cell_count</th>\n",
       "      <th>hypertension</th>\n",
       "      <th>diabetes_mellitus</th>\n",
       "      <th>coronary_artery_disease</th>\n",
       "      <th>appetite</th>\n",
       "      <th>peda_edema</th>\n",
       "      <th>aanemia</th>\n",
       "      <th>class</th>\n",
       "    </tr>\n",
       "  </thead>\n",
       "  <tbody>\n",
       "    <tr>\n",
       "      <th>0</th>\n",
       "      <td>48.0</td>\n",
       "      <td>80.0</td>\n",
       "      <td>1.020</td>\n",
       "      <td>1.0</td>\n",
       "      <td>0.0</td>\n",
       "      <td>NaN</td>\n",
       "      <td>normal</td>\n",
       "      <td>notpresent</td>\n",
       "      <td>notpresent</td>\n",
       "      <td>121.0</td>\n",
       "      <td>36.0</td>\n",
       "      <td>1.2</td>\n",
       "      <td>163.0</td>\n",
       "      <td>5.0</td>\n",
       "      <td>15.4</td>\n",
       "      <td>44.0</td>\n",
       "      <td>7800.0</td>\n",
       "      <td>5.2</td>\n",
       "      <td>yes</td>\n",
       "      <td>yes</td>\n",
       "      <td>no</td>\n",
       "      <td>good</td>\n",
       "      <td>no</td>\n",
       "      <td>no</td>\n",
       "      <td>0</td>\n",
       "    </tr>\n",
       "    <tr>\n",
       "      <th>1</th>\n",
       "      <td>7.0</td>\n",
       "      <td>50.0</td>\n",
       "      <td>1.020</td>\n",
       "      <td>4.0</td>\n",
       "      <td>0.0</td>\n",
       "      <td>NaN</td>\n",
       "      <td>normal</td>\n",
       "      <td>notpresent</td>\n",
       "      <td>notpresent</td>\n",
       "      <td>97.0</td>\n",
       "      <td>18.0</td>\n",
       "      <td>0.8</td>\n",
       "      <td>113.0</td>\n",
       "      <td>4.9</td>\n",
       "      <td>11.3</td>\n",
       "      <td>38.0</td>\n",
       "      <td>6000.0</td>\n",
       "      <td>4.5</td>\n",
       "      <td>no</td>\n",
       "      <td>no</td>\n",
       "      <td>no</td>\n",
       "      <td>good</td>\n",
       "      <td>no</td>\n",
       "      <td>no</td>\n",
       "      <td>0</td>\n",
       "    </tr>\n",
       "    <tr>\n",
       "      <th>2</th>\n",
       "      <td>62.0</td>\n",
       "      <td>80.0</td>\n",
       "      <td>1.010</td>\n",
       "      <td>2.0</td>\n",
       "      <td>3.0</td>\n",
       "      <td>normal</td>\n",
       "      <td>normal</td>\n",
       "      <td>notpresent</td>\n",
       "      <td>notpresent</td>\n",
       "      <td>423.0</td>\n",
       "      <td>53.0</td>\n",
       "      <td>1.8</td>\n",
       "      <td>142.0</td>\n",
       "      <td>5.0</td>\n",
       "      <td>9.6</td>\n",
       "      <td>31.0</td>\n",
       "      <td>7500.0</td>\n",
       "      <td>5.8</td>\n",
       "      <td>no</td>\n",
       "      <td>yes</td>\n",
       "      <td>no</td>\n",
       "      <td>poor</td>\n",
       "      <td>no</td>\n",
       "      <td>yes</td>\n",
       "      <td>0</td>\n",
       "    </tr>\n",
       "    <tr>\n",
       "      <th>3</th>\n",
       "      <td>48.0</td>\n",
       "      <td>70.0</td>\n",
       "      <td>1.005</td>\n",
       "      <td>4.0</td>\n",
       "      <td>0.0</td>\n",
       "      <td>normal</td>\n",
       "      <td>abnormal</td>\n",
       "      <td>present</td>\n",
       "      <td>notpresent</td>\n",
       "      <td>117.0</td>\n",
       "      <td>56.0</td>\n",
       "      <td>3.8</td>\n",
       "      <td>111.0</td>\n",
       "      <td>2.5</td>\n",
       "      <td>11.2</td>\n",
       "      <td>32.0</td>\n",
       "      <td>6700.0</td>\n",
       "      <td>3.9</td>\n",
       "      <td>yes</td>\n",
       "      <td>no</td>\n",
       "      <td>no</td>\n",
       "      <td>poor</td>\n",
       "      <td>yes</td>\n",
       "      <td>yes</td>\n",
       "      <td>0</td>\n",
       "    </tr>\n",
       "    <tr>\n",
       "      <th>4</th>\n",
       "      <td>51.0</td>\n",
       "      <td>80.0</td>\n",
       "      <td>1.010</td>\n",
       "      <td>2.0</td>\n",
       "      <td>0.0</td>\n",
       "      <td>normal</td>\n",
       "      <td>normal</td>\n",
       "      <td>notpresent</td>\n",
       "      <td>notpresent</td>\n",
       "      <td>106.0</td>\n",
       "      <td>26.0</td>\n",
       "      <td>1.4</td>\n",
       "      <td>144.0</td>\n",
       "      <td>3.0</td>\n",
       "      <td>11.6</td>\n",
       "      <td>35.0</td>\n",
       "      <td>7300.0</td>\n",
       "      <td>4.6</td>\n",
       "      <td>no</td>\n",
       "      <td>no</td>\n",
       "      <td>no</td>\n",
       "      <td>good</td>\n",
       "      <td>no</td>\n",
       "      <td>no</td>\n",
       "      <td>0</td>\n",
       "    </tr>\n",
       "  </tbody>\n",
       "</table>\n",
       "</div>"
      ],
      "text/plain": [
       "    age  blood_pressure  specific_gravity  albumin  sugar red_blood_cells  \\\n",
       "0  48.0            80.0             1.020      1.0    0.0             NaN   \n",
       "1   7.0            50.0             1.020      4.0    0.0             NaN   \n",
       "2  62.0            80.0             1.010      2.0    3.0          normal   \n",
       "3  48.0            70.0             1.005      4.0    0.0          normal   \n",
       "4  51.0            80.0             1.010      2.0    0.0          normal   \n",
       "\n",
       "   pus_cell pus_cell_clumps    bacteria  blood_glucose_random  blood_urea  \\\n",
       "0    normal      notpresent  notpresent                 121.0        36.0   \n",
       "1    normal      notpresent  notpresent                  97.0        18.0   \n",
       "2    normal      notpresent  notpresent                 423.0        53.0   \n",
       "3  abnormal         present  notpresent                 117.0        56.0   \n",
       "4    normal      notpresent  notpresent                 106.0        26.0   \n",
       "\n",
       "   serum_creatinine  sodium  potassium  haemoglobin  packed_cell_volume  \\\n",
       "0               1.2   163.0        5.0         15.4                44.0   \n",
       "1               0.8   113.0        4.9         11.3                38.0   \n",
       "2               1.8   142.0        5.0          9.6                31.0   \n",
       "3               3.8   111.0        2.5         11.2                32.0   \n",
       "4               1.4   144.0        3.0         11.6                35.0   \n",
       "\n",
       "   white_blood_cell_count  red_blood_cell_count hypertension  \\\n",
       "0                  7800.0                   5.2          yes   \n",
       "1                  6000.0                   4.5           no   \n",
       "2                  7500.0                   5.8           no   \n",
       "3                  6700.0                   3.9          yes   \n",
       "4                  7300.0                   4.6           no   \n",
       "\n",
       "  diabetes_mellitus coronary_artery_disease appetite peda_edema aanemia  class  \n",
       "0               yes                      no     good         no      no      0  \n",
       "1                no                      no     good         no      no      0  \n",
       "2               yes                      no     poor         no     yes      0  \n",
       "3                no                      no     poor        yes     yes      0  \n",
       "4                no                      no     good         no      no      0  "
      ]
     },
     "execution_count": 62,
     "metadata": {},
     "output_type": "execute_result"
    }
   ],
   "source": [
    "df.head()"
   ]
  },
  {
   "cell_type": "code",
   "execution_count": null,
   "id": "97545f61",
   "metadata": {},
   "outputs": [],
   "source": []
  },
  {
   "cell_type": "code",
   "execution_count": 63,
   "id": "6494929f",
   "metadata": {
    "execution": {
     "iopub.execute_input": "2021-08-03T10:27:11.580008Z",
     "iopub.status.busy": "2021-08-03T10:27:11.579143Z",
     "iopub.status.idle": "2021-08-03T10:27:11.582616Z",
     "shell.execute_reply": "2021-08-03T10:27:11.583124Z",
     "shell.execute_reply.started": "2021-08-03T10:09:12.375800Z"
    },
    "papermill": {
     "duration": 0.128198,
     "end_time": "2021-08-03T10:27:11.583291",
     "exception": false,
     "start_time": "2021-08-03T10:27:11.455093",
     "status": "completed"
    },
    "tags": []
   },
   "outputs": [
    {
     "data": {
      "text/plain": [
       "age                       0\n",
       "blood_pressure            0\n",
       "specific_gravity          0\n",
       "albumin                   0\n",
       "sugar                     0\n",
       "blood_glucose_random      0\n",
       "blood_urea                0\n",
       "serum_creatinine          0\n",
       "sodium                    0\n",
       "potassium                 0\n",
       "haemoglobin               0\n",
       "packed_cell_volume        0\n",
       "white_blood_cell_count    0\n",
       "red_blood_cell_count      0\n",
       "dtype: int64"
      ]
     },
     "execution_count": 63,
     "metadata": {},
     "output_type": "execute_result"
    }
   ],
   "source": [
    "df[num_cols].isnull().sum()"
   ]
  },
  {
   "cell_type": "code",
   "execution_count": 64,
   "id": "075163c6",
   "metadata": {
    "execution": {
     "iopub.execute_input": "2021-08-03T10:27:11.816216Z",
     "iopub.status.busy": "2021-08-03T10:27:11.815527Z",
     "iopub.status.idle": "2021-08-03T10:27:11.831880Z",
     "shell.execute_reply": "2021-08-03T10:27:11.832364Z",
     "shell.execute_reply.started": "2021-08-03T10:09:12.386026Z"
    },
    "papermill": {
     "duration": 0.13398,
     "end_time": "2021-08-03T10:27:11.832599",
     "exception": false,
     "start_time": "2021-08-03T10:27:11.698619",
     "status": "completed"
    },
    "tags": []
   },
   "outputs": [],
   "source": [
    "\n",
    "random_value_imputation('red_blood_cells')\n",
    "random_value_imputation('pus_cell')\n",
    "\n",
    "for col in cat_cols:\n",
    "    impute_mode(col)"
   ]
  },
  {
   "cell_type": "code",
   "execution_count": 65,
   "id": "6aba043e",
   "metadata": {
    "execution": {
     "iopub.execute_input": "2021-08-03T10:27:12.066240Z",
     "iopub.status.busy": "2021-08-03T10:27:12.065576Z",
     "iopub.status.idle": "2021-08-03T10:27:12.074770Z",
     "shell.execute_reply": "2021-08-03T10:27:12.074192Z",
     "shell.execute_reply.started": "2021-08-03T10:09:12.409722Z"
    },
    "papermill": {
     "duration": 0.128218,
     "end_time": "2021-08-03T10:27:12.074909",
     "exception": false,
     "start_time": "2021-08-03T10:27:11.946691",
     "status": "completed"
    },
    "tags": []
   },
   "outputs": [
    {
     "data": {
      "text/plain": [
       "red_blood_cells            0\n",
       "pus_cell                   0\n",
       "pus_cell_clumps            0\n",
       "bacteria                   0\n",
       "hypertension               0\n",
       "diabetes_mellitus          0\n",
       "coronary_artery_disease    0\n",
       "appetite                   0\n",
       "peda_edema                 0\n",
       "aanemia                    0\n",
       "class                      0\n",
       "dtype: int64"
      ]
     },
     "execution_count": 65,
     "metadata": {},
     "output_type": "execute_result"
    }
   ],
   "source": [
    "df[cat_cols].isnull().sum()"
   ]
  },
  {
   "cell_type": "code",
   "execution_count": 66,
   "id": "fba81f1a",
   "metadata": {
    "execution": {
     "iopub.execute_input": "2021-08-03T10:27:12.763719Z",
     "iopub.status.busy": "2021-08-03T10:27:12.763055Z",
     "iopub.status.idle": "2021-08-03T10:27:12.775744Z",
     "shell.execute_reply": "2021-08-03T10:27:12.776180Z",
     "shell.execute_reply.started": "2021-08-03T10:09:12.427249Z"
    },
    "papermill": {
     "duration": 0.130215,
     "end_time": "2021-08-03T10:27:12.776345",
     "exception": false,
     "start_time": "2021-08-03T10:27:12.646130",
     "status": "completed"
    },
    "tags": []
   },
   "outputs": [
    {
     "name": "stdout",
     "output_type": "stream",
     "text": [
      "red_blood_cells has 2 categories\n",
      "\n",
      "pus_cell has 2 categories\n",
      "\n",
      "pus_cell_clumps has 2 categories\n",
      "\n",
      "bacteria has 2 categories\n",
      "\n",
      "hypertension has 2 categories\n",
      "\n",
      "diabetes_mellitus has 2 categories\n",
      "\n",
      "coronary_artery_disease has 2 categories\n",
      "\n",
      "appetite has 2 categories\n",
      "\n",
      "peda_edema has 2 categories\n",
      "\n",
      "aanemia has 2 categories\n",
      "\n",
      "class has 2 categories\n",
      "\n"
     ]
    }
   ],
   "source": [
    "for col in cat_cols:\n",
    "    print(f\"{col} has {df[col].nunique()} categories\\n\")"
   ]
  },
  {
   "cell_type": "code",
   "execution_count": 67,
   "id": "5c8e2126",
   "metadata": {
    "execution": {
     "iopub.execute_input": "2021-08-03T10:27:13.244518Z",
     "iopub.status.busy": "2021-08-03T10:27:13.243804Z",
     "iopub.status.idle": "2021-08-03T10:27:13.371863Z",
     "shell.execute_reply": "2021-08-03T10:27:13.371208Z",
     "shell.execute_reply.started": "2021-08-03T10:09:12.445409Z"
    },
    "papermill": {
     "duration": 0.248224,
     "end_time": "2021-08-03T10:27:13.372008",
     "exception": false,
     "start_time": "2021-08-03T10:27:13.123784",
     "status": "completed"
    },
    "tags": []
   },
   "outputs": [],
   "source": [
    "from sklearn.preprocessing import LabelEncoder\n",
    "\n",
    "le = LabelEncoder()\n",
    "\n",
    "for col in cat_cols:\n",
    "    df[col] = le.fit_transform(df[col])"
   ]
  },
  {
   "cell_type": "code",
   "execution_count": 68,
   "id": "5f3d91ef",
   "metadata": {
    "execution": {
     "iopub.execute_input": "2021-08-03T10:27:13.632398Z",
     "iopub.status.busy": "2021-08-03T10:27:13.631424Z",
     "iopub.status.idle": "2021-08-03T10:27:13.635803Z",
     "shell.execute_reply": "2021-08-03T10:27:13.635106Z",
     "shell.execute_reply.started": "2021-08-03T10:09:12.488522Z"
    },
    "papermill": {
     "duration": 0.14916,
     "end_time": "2021-08-03T10:27:13.635946",
     "exception": false,
     "start_time": "2021-08-03T10:27:13.486786",
     "status": "completed"
    },
    "tags": []
   },
   "outputs": [
    {
     "data": {
      "text/html": [
       "<div>\n",
       "<style scoped>\n",
       "    .dataframe tbody tr th:only-of-type {\n",
       "        vertical-align: middle;\n",
       "    }\n",
       "\n",
       "    .dataframe tbody tr th {\n",
       "        vertical-align: top;\n",
       "    }\n",
       "\n",
       "    .dataframe thead th {\n",
       "        text-align: right;\n",
       "    }\n",
       "</style>\n",
       "<table border=\"1\" class=\"dataframe\">\n",
       "  <thead>\n",
       "    <tr style=\"text-align: right;\">\n",
       "      <th></th>\n",
       "      <th>age</th>\n",
       "      <th>blood_pressure</th>\n",
       "      <th>specific_gravity</th>\n",
       "      <th>albumin</th>\n",
       "      <th>sugar</th>\n",
       "      <th>red_blood_cells</th>\n",
       "      <th>pus_cell</th>\n",
       "      <th>pus_cell_clumps</th>\n",
       "      <th>bacteria</th>\n",
       "      <th>blood_glucose_random</th>\n",
       "      <th>blood_urea</th>\n",
       "      <th>serum_creatinine</th>\n",
       "      <th>sodium</th>\n",
       "      <th>potassium</th>\n",
       "      <th>haemoglobin</th>\n",
       "      <th>packed_cell_volume</th>\n",
       "      <th>white_blood_cell_count</th>\n",
       "      <th>red_blood_cell_count</th>\n",
       "      <th>hypertension</th>\n",
       "      <th>diabetes_mellitus</th>\n",
       "      <th>coronary_artery_disease</th>\n",
       "      <th>appetite</th>\n",
       "      <th>peda_edema</th>\n",
       "      <th>aanemia</th>\n",
       "      <th>class</th>\n",
       "    </tr>\n",
       "  </thead>\n",
       "  <tbody>\n",
       "    <tr>\n",
       "      <th>0</th>\n",
       "      <td>48.0</td>\n",
       "      <td>80.0</td>\n",
       "      <td>1.020</td>\n",
       "      <td>1.0</td>\n",
       "      <td>0.0</td>\n",
       "      <td>1</td>\n",
       "      <td>1</td>\n",
       "      <td>0</td>\n",
       "      <td>0</td>\n",
       "      <td>121.0</td>\n",
       "      <td>36.0</td>\n",
       "      <td>1.2</td>\n",
       "      <td>163.0</td>\n",
       "      <td>5.0</td>\n",
       "      <td>15.4</td>\n",
       "      <td>44.0</td>\n",
       "      <td>7800.0</td>\n",
       "      <td>5.2</td>\n",
       "      <td>1</td>\n",
       "      <td>1</td>\n",
       "      <td>0</td>\n",
       "      <td>0</td>\n",
       "      <td>0</td>\n",
       "      <td>0</td>\n",
       "      <td>0</td>\n",
       "    </tr>\n",
       "    <tr>\n",
       "      <th>1</th>\n",
       "      <td>7.0</td>\n",
       "      <td>50.0</td>\n",
       "      <td>1.020</td>\n",
       "      <td>4.0</td>\n",
       "      <td>0.0</td>\n",
       "      <td>1</td>\n",
       "      <td>1</td>\n",
       "      <td>0</td>\n",
       "      <td>0</td>\n",
       "      <td>97.0</td>\n",
       "      <td>18.0</td>\n",
       "      <td>0.8</td>\n",
       "      <td>113.0</td>\n",
       "      <td>4.9</td>\n",
       "      <td>11.3</td>\n",
       "      <td>38.0</td>\n",
       "      <td>6000.0</td>\n",
       "      <td>4.5</td>\n",
       "      <td>0</td>\n",
       "      <td>0</td>\n",
       "      <td>0</td>\n",
       "      <td>0</td>\n",
       "      <td>0</td>\n",
       "      <td>0</td>\n",
       "      <td>0</td>\n",
       "    </tr>\n",
       "    <tr>\n",
       "      <th>2</th>\n",
       "      <td>62.0</td>\n",
       "      <td>80.0</td>\n",
       "      <td>1.010</td>\n",
       "      <td>2.0</td>\n",
       "      <td>3.0</td>\n",
       "      <td>1</td>\n",
       "      <td>1</td>\n",
       "      <td>0</td>\n",
       "      <td>0</td>\n",
       "      <td>423.0</td>\n",
       "      <td>53.0</td>\n",
       "      <td>1.8</td>\n",
       "      <td>142.0</td>\n",
       "      <td>5.0</td>\n",
       "      <td>9.6</td>\n",
       "      <td>31.0</td>\n",
       "      <td>7500.0</td>\n",
       "      <td>5.8</td>\n",
       "      <td>0</td>\n",
       "      <td>1</td>\n",
       "      <td>0</td>\n",
       "      <td>1</td>\n",
       "      <td>0</td>\n",
       "      <td>1</td>\n",
       "      <td>0</td>\n",
       "    </tr>\n",
       "    <tr>\n",
       "      <th>3</th>\n",
       "      <td>48.0</td>\n",
       "      <td>70.0</td>\n",
       "      <td>1.005</td>\n",
       "      <td>4.0</td>\n",
       "      <td>0.0</td>\n",
       "      <td>1</td>\n",
       "      <td>0</td>\n",
       "      <td>1</td>\n",
       "      <td>0</td>\n",
       "      <td>117.0</td>\n",
       "      <td>56.0</td>\n",
       "      <td>3.8</td>\n",
       "      <td>111.0</td>\n",
       "      <td>2.5</td>\n",
       "      <td>11.2</td>\n",
       "      <td>32.0</td>\n",
       "      <td>6700.0</td>\n",
       "      <td>3.9</td>\n",
       "      <td>1</td>\n",
       "      <td>0</td>\n",
       "      <td>0</td>\n",
       "      <td>1</td>\n",
       "      <td>1</td>\n",
       "      <td>1</td>\n",
       "      <td>0</td>\n",
       "    </tr>\n",
       "    <tr>\n",
       "      <th>4</th>\n",
       "      <td>51.0</td>\n",
       "      <td>80.0</td>\n",
       "      <td>1.010</td>\n",
       "      <td>2.0</td>\n",
       "      <td>0.0</td>\n",
       "      <td>1</td>\n",
       "      <td>1</td>\n",
       "      <td>0</td>\n",
       "      <td>0</td>\n",
       "      <td>106.0</td>\n",
       "      <td>26.0</td>\n",
       "      <td>1.4</td>\n",
       "      <td>144.0</td>\n",
       "      <td>3.0</td>\n",
       "      <td>11.6</td>\n",
       "      <td>35.0</td>\n",
       "      <td>7300.0</td>\n",
       "      <td>4.6</td>\n",
       "      <td>0</td>\n",
       "      <td>0</td>\n",
       "      <td>0</td>\n",
       "      <td>0</td>\n",
       "      <td>0</td>\n",
       "      <td>0</td>\n",
       "      <td>0</td>\n",
       "    </tr>\n",
       "  </tbody>\n",
       "</table>\n",
       "</div>"
      ],
      "text/plain": [
       "    age  blood_pressure  specific_gravity  albumin  sugar  red_blood_cells  \\\n",
       "0  48.0            80.0             1.020      1.0    0.0                1   \n",
       "1   7.0            50.0             1.020      4.0    0.0                1   \n",
       "2  62.0            80.0             1.010      2.0    3.0                1   \n",
       "3  48.0            70.0             1.005      4.0    0.0                1   \n",
       "4  51.0            80.0             1.010      2.0    0.0                1   \n",
       "\n",
       "   pus_cell  pus_cell_clumps  bacteria  blood_glucose_random  blood_urea  \\\n",
       "0         1                0         0                 121.0        36.0   \n",
       "1         1                0         0                  97.0        18.0   \n",
       "2         1                0         0                 423.0        53.0   \n",
       "3         0                1         0                 117.0        56.0   \n",
       "4         1                0         0                 106.0        26.0   \n",
       "\n",
       "   serum_creatinine  sodium  potassium  haemoglobin  packed_cell_volume  \\\n",
       "0               1.2   163.0        5.0         15.4                44.0   \n",
       "1               0.8   113.0        4.9         11.3                38.0   \n",
       "2               1.8   142.0        5.0          9.6                31.0   \n",
       "3               3.8   111.0        2.5         11.2                32.0   \n",
       "4               1.4   144.0        3.0         11.6                35.0   \n",
       "\n",
       "   white_blood_cell_count  red_blood_cell_count  hypertension  \\\n",
       "0                  7800.0                   5.2             1   \n",
       "1                  6000.0                   4.5             0   \n",
       "2                  7500.0                   5.8             0   \n",
       "3                  6700.0                   3.9             1   \n",
       "4                  7300.0                   4.6             0   \n",
       "\n",
       "   diabetes_mellitus  coronary_artery_disease  appetite  peda_edema  aanemia  \\\n",
       "0                  1                        0         0           0        0   \n",
       "1                  0                        0         0           0        0   \n",
       "2                  1                        0         1           0        1   \n",
       "3                  0                        0         1           1        1   \n",
       "4                  0                        0         0           0        0   \n",
       "\n",
       "   class  \n",
       "0      0  \n",
       "1      0  \n",
       "2      0  \n",
       "3      0  \n",
       "4      0  "
      ]
     },
     "execution_count": 68,
     "metadata": {},
     "output_type": "execute_result"
    }
   ],
   "source": [
    "df.head()"
   ]
  },
  {
   "cell_type": "code",
   "execution_count": 69,
   "id": "8a66e3e6",
   "metadata": {
    "execution": {
     "iopub.execute_input": "2021-08-03T10:27:14.112298Z",
     "iopub.status.busy": "2021-08-03T10:27:14.111609Z",
     "iopub.status.idle": "2021-08-03T10:27:14.114579Z",
     "shell.execute_reply": "2021-08-03T10:27:14.114075Z",
     "shell.execute_reply.started": "2021-08-03T10:09:12.520560Z"
    },
    "papermill": {
     "duration": 0.127828,
     "end_time": "2021-08-03T10:27:14.114725",
     "exception": false,
     "start_time": "2021-08-03T10:27:13.986897",
     "status": "completed"
    },
    "tags": []
   },
   "outputs": [],
   "source": [
    "ind_col = [col for col in df.columns if col != 'class']\n",
    "dep_col = 'class'\n",
    "\n",
    "X = df[ind_col]\n",
    "y = df[dep_col]"
   ]
  },
  {
   "cell_type": "code",
   "execution_count": 70,
   "id": "5cdcd5f7",
   "metadata": {
    "execution": {
     "iopub.execute_input": "2021-08-03T10:27:14.353157Z",
     "iopub.status.busy": "2021-08-03T10:27:14.352134Z",
     "iopub.status.idle": "2021-08-03T10:27:14.404364Z",
     "shell.execute_reply": "2021-08-03T10:27:14.404937Z",
     "shell.execute_reply.started": "2021-08-03T10:09:12.529198Z"
    },
    "papermill": {
     "duration": 0.174408,
     "end_time": "2021-08-03T10:27:14.405112",
     "exception": false,
     "start_time": "2021-08-03T10:27:14.230704",
     "status": "completed"
    },
    "tags": []
   },
   "outputs": [],
   "source": [
    "\n",
    "from sklearn.model_selection import train_test_split\n",
    "\n",
    "X_train, X_test, y_train, y_test = train_test_split(X, y, test_size = 0.30, random_state = 0)"
   ]
  },
  {
   "cell_type": "code",
   "execution_count": 71,
   "id": "c4263757",
   "metadata": {
    "execution": {
     "iopub.execute_input": "2021-08-03T10:27:15.542018Z",
     "iopub.status.busy": "2021-08-03T10:27:15.541344Z",
     "iopub.status.idle": "2021-08-03T10:27:15.597594Z",
     "shell.execute_reply": "2021-08-03T10:27:15.596688Z",
     "shell.execute_reply.started": "2021-08-03T10:09:12.644336Z"
    },
    "papermill": {
     "duration": 0.175633,
     "end_time": "2021-08-03T10:27:15.597852",
     "exception": false,
     "start_time": "2021-08-03T10:27:15.422219",
     "status": "completed"
    },
    "tags": []
   },
   "outputs": [
    {
     "name": "stdout",
     "output_type": "stream",
     "text": [
      "Training Accuracy of Decision Tree Classifier is 1.0\n",
      "Test Accuracy of Decision Tree Classifier is 0.95 \n",
      "\n",
      "Confusion Matrix :- \n",
      "[[70  2]\n",
      " [ 4 44]]\n",
      "\n",
      "Classification Report :- \n",
      "               precision    recall  f1-score   support\n",
      "\n",
      "           0       0.95      0.97      0.96        72\n",
      "           1       0.96      0.92      0.94        48\n",
      "\n",
      "    accuracy                           0.95       120\n",
      "   macro avg       0.95      0.94      0.95       120\n",
      "weighted avg       0.95      0.95      0.95       120\n",
      "\n"
     ]
    }
   ],
   "source": [
    "from sklearn.tree import DecisionTreeClassifier\n",
    "\n",
    "dtc = DecisionTreeClassifier()\n",
    "dtc.fit(X_train, y_train)\n",
    "\n",
    "\n",
    "dtc_acc = accuracy_score(y_test, dtc.predict(X_test))\n",
    "\n",
    "print(f\"Training Accuracy of Decision Tree Classifier is {accuracy_score(y_train, dtc.predict(X_train))}\")\n",
    "print(f\"Test Accuracy of Decision Tree Classifier is {dtc_acc} \\n\")\n",
    "\n",
    "print(f\"Confusion Matrix :- \\n{confusion_matrix(y_test, dtc.predict(X_test))}\\n\")\n",
    "print(f\"Classification Report :- \\n {classification_report(y_test, dtc.predict(X_test))}\")"
   ]
  },
  {
   "cell_type": "code",
   "execution_count": 72,
   "id": "560d2cbe",
   "metadata": {
    "execution": {
     "iopub.execute_input": "2021-08-03T10:27:15.849505Z",
     "iopub.status.busy": "2021-08-03T10:27:15.848733Z",
     "iopub.status.idle": "2021-08-03T10:27:32.734981Z",
     "shell.execute_reply": "2021-08-03T10:27:32.735542Z",
     "shell.execute_reply.started": "2021-08-03T10:09:12.675679Z"
    },
    "papermill": {
     "duration": 17.017514,
     "end_time": "2021-08-03T10:27:32.735752",
     "exception": false,
     "start_time": "2021-08-03T10:27:15.718238",
     "status": "completed"
    },
    "tags": []
   },
   "outputs": [
    {
     "name": "stdout",
     "output_type": "stream",
     "text": [
      "Fitting 5 folds for each of 1200 candidates, totalling 6000 fits\n"
     ]
    },
    {
     "data": {
      "text/html": [
       "<style>#sk-container-id-1 {color: black;}#sk-container-id-1 pre{padding: 0;}#sk-container-id-1 div.sk-toggleable {background-color: white;}#sk-container-id-1 label.sk-toggleable__label {cursor: pointer;display: block;width: 100%;margin-bottom: 0;padding: 0.3em;box-sizing: border-box;text-align: center;}#sk-container-id-1 label.sk-toggleable__label-arrow:before {content: \"▸\";float: left;margin-right: 0.25em;color: #696969;}#sk-container-id-1 label.sk-toggleable__label-arrow:hover:before {color: black;}#sk-container-id-1 div.sk-estimator:hover label.sk-toggleable__label-arrow:before {color: black;}#sk-container-id-1 div.sk-toggleable__content {max-height: 0;max-width: 0;overflow: hidden;text-align: left;background-color: #f0f8ff;}#sk-container-id-1 div.sk-toggleable__content pre {margin: 0.2em;color: black;border-radius: 0.25em;background-color: #f0f8ff;}#sk-container-id-1 input.sk-toggleable__control:checked~div.sk-toggleable__content {max-height: 200px;max-width: 100%;overflow: auto;}#sk-container-id-1 input.sk-toggleable__control:checked~label.sk-toggleable__label-arrow:before {content: \"▾\";}#sk-container-id-1 div.sk-estimator input.sk-toggleable__control:checked~label.sk-toggleable__label {background-color: #d4ebff;}#sk-container-id-1 div.sk-label input.sk-toggleable__control:checked~label.sk-toggleable__label {background-color: #d4ebff;}#sk-container-id-1 input.sk-hidden--visually {border: 0;clip: rect(1px 1px 1px 1px);clip: rect(1px, 1px, 1px, 1px);height: 1px;margin: -1px;overflow: hidden;padding: 0;position: absolute;width: 1px;}#sk-container-id-1 div.sk-estimator {font-family: monospace;background-color: #f0f8ff;border: 1px dotted black;border-radius: 0.25em;box-sizing: border-box;margin-bottom: 0.5em;}#sk-container-id-1 div.sk-estimator:hover {background-color: #d4ebff;}#sk-container-id-1 div.sk-parallel-item::after {content: \"\";width: 100%;border-bottom: 1px solid gray;flex-grow: 1;}#sk-container-id-1 div.sk-label:hover label.sk-toggleable__label {background-color: #d4ebff;}#sk-container-id-1 div.sk-serial::before {content: \"\";position: absolute;border-left: 1px solid gray;box-sizing: border-box;top: 0;bottom: 0;left: 50%;z-index: 0;}#sk-container-id-1 div.sk-serial {display: flex;flex-direction: column;align-items: center;background-color: white;padding-right: 0.2em;padding-left: 0.2em;position: relative;}#sk-container-id-1 div.sk-item {position: relative;z-index: 1;}#sk-container-id-1 div.sk-parallel {display: flex;align-items: stretch;justify-content: center;background-color: white;position: relative;}#sk-container-id-1 div.sk-item::before, #sk-container-id-1 div.sk-parallel-item::before {content: \"\";position: absolute;border-left: 1px solid gray;box-sizing: border-box;top: 0;bottom: 0;left: 50%;z-index: -1;}#sk-container-id-1 div.sk-parallel-item {display: flex;flex-direction: column;z-index: 1;position: relative;background-color: white;}#sk-container-id-1 div.sk-parallel-item:first-child::after {align-self: flex-end;width: 50%;}#sk-container-id-1 div.sk-parallel-item:last-child::after {align-self: flex-start;width: 50%;}#sk-container-id-1 div.sk-parallel-item:only-child::after {width: 0;}#sk-container-id-1 div.sk-dashed-wrapped {border: 1px dashed gray;margin: 0 0.4em 0.5em 0.4em;box-sizing: border-box;padding-bottom: 0.4em;background-color: white;}#sk-container-id-1 div.sk-label label {font-family: monospace;font-weight: bold;display: inline-block;line-height: 1.2em;}#sk-container-id-1 div.sk-label-container {text-align: center;}#sk-container-id-1 div.sk-container {/* jupyter's `normalize.less` sets `[hidden] { display: none; }` but bootstrap.min.css set `[hidden] { display: none !important; }` so we also need the `!important` here to be able to override the default hidden behavior on the sphinx rendered scikit-learn.org. See: https://github.com/scikit-learn/scikit-learn/issues/21755 */display: inline-block !important;position: relative;}#sk-container-id-1 div.sk-text-repr-fallback {display: none;}</style><div id=\"sk-container-id-1\" class=\"sk-top-container\"><div class=\"sk-text-repr-fallback\"><pre>GridSearchCV(cv=5, estimator=DecisionTreeClassifier(), n_jobs=-1,\n",
       "             param_grid={&#x27;criterion&#x27;: [&#x27;gini&#x27;, &#x27;entropy&#x27;],\n",
       "                         &#x27;max_depth&#x27;: [3, 5, 7, 10],\n",
       "                         &#x27;max_features&#x27;: [&#x27;auto&#x27;, &#x27;sqrt&#x27;, &#x27;log2&#x27;],\n",
       "                         &#x27;min_samples_leaf&#x27;: [1, 2, 3, 5, 7],\n",
       "                         &#x27;min_samples_split&#x27;: [1, 2, 3, 5, 7],\n",
       "                         &#x27;splitter&#x27;: [&#x27;best&#x27;, &#x27;random&#x27;]},\n",
       "             verbose=1)</pre><b>In a Jupyter environment, please rerun this cell to show the HTML representation or trust the notebook. <br />On GitHub, the HTML representation is unable to render, please try loading this page with nbviewer.org.</b></div><div class=\"sk-container\" hidden><div class=\"sk-item sk-dashed-wrapped\"><div class=\"sk-label-container\"><div class=\"sk-label sk-toggleable\"><input class=\"sk-toggleable__control sk-hidden--visually\" id=\"sk-estimator-id-1\" type=\"checkbox\" ><label for=\"sk-estimator-id-1\" class=\"sk-toggleable__label sk-toggleable__label-arrow\">GridSearchCV</label><div class=\"sk-toggleable__content\"><pre>GridSearchCV(cv=5, estimator=DecisionTreeClassifier(), n_jobs=-1,\n",
       "             param_grid={&#x27;criterion&#x27;: [&#x27;gini&#x27;, &#x27;entropy&#x27;],\n",
       "                         &#x27;max_depth&#x27;: [3, 5, 7, 10],\n",
       "                         &#x27;max_features&#x27;: [&#x27;auto&#x27;, &#x27;sqrt&#x27;, &#x27;log2&#x27;],\n",
       "                         &#x27;min_samples_leaf&#x27;: [1, 2, 3, 5, 7],\n",
       "                         &#x27;min_samples_split&#x27;: [1, 2, 3, 5, 7],\n",
       "                         &#x27;splitter&#x27;: [&#x27;best&#x27;, &#x27;random&#x27;]},\n",
       "             verbose=1)</pre></div></div></div><div class=\"sk-parallel\"><div class=\"sk-parallel-item\"><div class=\"sk-item\"><div class=\"sk-label-container\"><div class=\"sk-label sk-toggleable\"><input class=\"sk-toggleable__control sk-hidden--visually\" id=\"sk-estimator-id-2\" type=\"checkbox\" ><label for=\"sk-estimator-id-2\" class=\"sk-toggleable__label sk-toggleable__label-arrow\">estimator: DecisionTreeClassifier</label><div class=\"sk-toggleable__content\"><pre>DecisionTreeClassifier()</pre></div></div></div><div class=\"sk-serial\"><div class=\"sk-item\"><div class=\"sk-estimator sk-toggleable\"><input class=\"sk-toggleable__control sk-hidden--visually\" id=\"sk-estimator-id-3\" type=\"checkbox\" ><label for=\"sk-estimator-id-3\" class=\"sk-toggleable__label sk-toggleable__label-arrow\">DecisionTreeClassifier</label><div class=\"sk-toggleable__content\"><pre>DecisionTreeClassifier()</pre></div></div></div></div></div></div></div></div></div></div>"
      ],
      "text/plain": [
       "GridSearchCV(cv=5, estimator=DecisionTreeClassifier(), n_jobs=-1,\n",
       "             param_grid={'criterion': ['gini', 'entropy'],\n",
       "                         'max_depth': [3, 5, 7, 10],\n",
       "                         'max_features': ['auto', 'sqrt', 'log2'],\n",
       "                         'min_samples_leaf': [1, 2, 3, 5, 7],\n",
       "                         'min_samples_split': [1, 2, 3, 5, 7],\n",
       "                         'splitter': ['best', 'random']},\n",
       "             verbose=1)"
      ]
     },
     "execution_count": 72,
     "metadata": {},
     "output_type": "execute_result"
    }
   ],
   "source": [
    "\n",
    "from sklearn.model_selection import GridSearchCV\n",
    "grid_param = {\n",
    "    'criterion' : ['gini', 'entropy'],\n",
    "    'max_depth' : [3, 5, 7, 10],\n",
    "    'splitter' : ['best', 'random'],\n",
    "    'min_samples_leaf' : [1, 2, 3, 5, 7],\n",
    "    'min_samples_split' : [1, 2, 3, 5, 7],\n",
    "    'max_features' : ['auto', 'sqrt', 'log2']\n",
    "}\n",
    "\n",
    "grid_search_dtc = GridSearchCV(dtc, grid_param, cv = 5, n_jobs = -1, verbose = 1)\n",
    "grid_search_dtc.fit(X_train, y_train)"
   ]
  },
  {
   "cell_type": "code",
   "execution_count": 73,
   "id": "2b909268",
   "metadata": {
    "execution": {
     "iopub.execute_input": "2021-08-03T10:27:32.975287Z",
     "iopub.status.busy": "2021-08-03T10:27:32.974573Z",
     "iopub.status.idle": "2021-08-03T10:27:32.977558Z",
     "shell.execute_reply": "2021-08-03T10:27:32.978304Z",
     "shell.execute_reply.started": "2021-08-03T10:09:28.589531Z"
    },
    "papermill": {
     "duration": 0.125459,
     "end_time": "2021-08-03T10:27:32.978520",
     "exception": false,
     "start_time": "2021-08-03T10:27:32.853061",
     "status": "completed"
    },
    "tags": []
   },
   "outputs": [
    {
     "name": "stdout",
     "output_type": "stream",
     "text": [
      "{'criterion': 'entropy', 'max_depth': 7, 'max_features': 'sqrt', 'min_samples_leaf': 1, 'min_samples_split': 2, 'splitter': 'best'}\n",
      "0.9821428571428573\n"
     ]
    }
   ],
   "source": [
    "\n",
    "print(grid_search_dtc.best_params_)\n",
    "print(grid_search_dtc.best_score_)"
   ]
  },
  {
   "cell_type": "code",
   "execution_count": 74,
   "id": "704ee48f",
   "metadata": {
    "execution": {
     "iopub.execute_input": "2021-08-03T10:27:33.219610Z",
     "iopub.status.busy": "2021-08-03T10:27:33.218992Z",
     "iopub.status.idle": "2021-08-03T10:27:33.237945Z",
     "shell.execute_reply": "2021-08-03T10:27:33.238461Z",
     "shell.execute_reply.started": "2021-08-03T10:09:28.596341Z"
    },
    "papermill": {
     "duration": 0.1406,
     "end_time": "2021-08-03T10:27:33.238633",
     "exception": false,
     "start_time": "2021-08-03T10:27:33.098033",
     "status": "completed"
    },
    "tags": []
   },
   "outputs": [
    {
     "name": "stdout",
     "output_type": "stream",
     "text": [
      "Training Accuracy of Decision Tree Classifier is 0.9785714285714285\n",
      "Test Accuracy of Decision Tree Classifier is 0.9416666666666667 \n",
      "\n",
      "Confusion Matrix :- \n",
      "[[70  2]\n",
      " [ 5 43]]\n",
      "\n",
      "Classification Report :- \n",
      "               precision    recall  f1-score   support\n",
      "\n",
      "           0       0.93      0.97      0.95        72\n",
      "           1       0.96      0.90      0.92        48\n",
      "\n",
      "    accuracy                           0.94       120\n",
      "   macro avg       0.94      0.93      0.94       120\n",
      "weighted avg       0.94      0.94      0.94       120\n",
      "\n"
     ]
    }
   ],
   "source": [
    "\n",
    "dtc = grid_search_dtc.best_estimator_\n",
    "\n",
    "\n",
    "dtc_acc = accuracy_score(y_test, dtc.predict(X_test))\n",
    "\n",
    "print(f\"Training Accuracy of Decision Tree Classifier is {accuracy_score(y_train, dtc.predict(X_train))}\")\n",
    "print(f\"Test Accuracy of Decision Tree Classifier is {dtc_acc} \\n\")\n",
    "\n",
    "print(f\"Confusion Matrix :- \\n{confusion_matrix(y_test, dtc.predict(X_test))}\\n\")\n",
    "print(f\"Classification Report :- \\n {classification_report(y_test, dtc.predict(X_test))}\")"
   ]
  },
  {
   "cell_type": "code",
   "execution_count": 75,
   "id": "b78ff36b",
   "metadata": {
    "execution": {
     "iopub.execute_input": "2021-08-03T10:27:34.543766Z",
     "iopub.status.busy": "2021-08-03T10:27:34.543103Z",
     "iopub.status.idle": "2021-08-03T10:27:34.568838Z",
     "shell.execute_reply": "2021-08-03T10:27:34.568318Z",
     "shell.execute_reply.started": "2021-08-03T10:09:28.971670Z"
    },
    "papermill": {
     "duration": 0.151699,
     "end_time": "2021-08-03T10:27:34.568981",
     "exception": false,
     "start_time": "2021-08-03T10:27:34.417282",
     "status": "completed"
    },
    "tags": []
   },
   "outputs": [
    {
     "name": "stdout",
     "output_type": "stream",
     "text": [
      "Training Accuracy of Ada Boost Classifier is 1.0\n",
      "Test Accuracy of Ada Boost Classifier is 0.9583333333333334 \n",
      "\n",
      "Confusion Matrix :- \n",
      "[[70  2]\n",
      " [ 3 45]]\n",
      "\n",
      "Classification Report :- \n",
      "               precision    recall  f1-score   support\n",
      "\n",
      "           0       0.96      0.97      0.97        72\n",
      "           1       0.96      0.94      0.95        48\n",
      "\n",
      "    accuracy                           0.96       120\n",
      "   macro avg       0.96      0.95      0.96       120\n",
      "weighted avg       0.96      0.96      0.96       120\n",
      "\n"
     ]
    }
   ],
   "source": [
    "from sklearn.ensemble import AdaBoostClassifier\n",
    "\n",
    "ada = AdaBoostClassifier(base_estimator = dtc)\n",
    "ada.fit(X_train, y_train)\n",
    "\n",
    "\n",
    "ada_acc = accuracy_score(y_test, ada.predict(X_test))\n",
    "\n",
    "print(f\"Training Accuracy of Ada Boost Classifier is {accuracy_score(y_train, ada.predict(X_train))}\")\n",
    "print(f\"Test Accuracy of Ada Boost Classifier is {ada_acc} \\n\")\n",
    "\n",
    "print(f\"Confusion Matrix :- \\n{confusion_matrix(y_test, ada.predict(X_test))}\\n\")\n",
    "print(f\"Classification Report :- \\n {classification_report(y_test, ada.predict(X_test))}\")"
   ]
  },
  {
   "cell_type": "code",
   "execution_count": 76,
   "id": "a13b3203",
   "metadata": {
    "execution": {
     "iopub.execute_input": "2021-08-03T10:27:35.049558Z",
     "iopub.status.busy": "2021-08-03T10:27:35.048609Z",
     "iopub.status.idle": "2021-08-03T10:27:35.196502Z",
     "shell.execute_reply": "2021-08-03T10:27:35.197139Z",
     "shell.execute_reply.started": "2021-08-03T10:09:29.136941Z"
    },
    "papermill": {
     "duration": 0.273095,
     "end_time": "2021-08-03T10:27:35.197368",
     "exception": false,
     "start_time": "2021-08-03T10:27:34.924273",
     "status": "completed"
    },
    "tags": []
   },
   "outputs": [
    {
     "name": "stdout",
     "output_type": "stream",
     "text": [
      "Training Accuracy of Gradient Boosting Classifier is 1.0\n",
      "Test Accuracy of Gradient Boosting Classifier is 0.9583333333333334 \n",
      "\n",
      "Confusion Matrix :- \n",
      "[[72  0]\n",
      " [ 5 43]]\n",
      "\n",
      "Classification Report :- \n",
      "               precision    recall  f1-score   support\n",
      "\n",
      "           0       0.94      1.00      0.97        72\n",
      "           1       1.00      0.90      0.95        48\n",
      "\n",
      "    accuracy                           0.96       120\n",
      "   macro avg       0.97      0.95      0.96       120\n",
      "weighted avg       0.96      0.96      0.96       120\n",
      "\n"
     ]
    }
   ],
   "source": [
    "from sklearn.ensemble import GradientBoostingClassifier\n",
    "\n",
    "gb = GradientBoostingClassifier()\n",
    "gb.fit(X_train, y_train)\n",
    "\n",
    "\n",
    "gb_acc = accuracy_score(y_test, gb.predict(X_test))\n",
    "\n",
    "print(f\"Training Accuracy of Gradient Boosting Classifier is {accuracy_score(y_train, gb.predict(X_train))}\")\n",
    "print(f\"Test Accuracy of Gradient Boosting Classifier is {gb_acc} \\n\")\n",
    "\n",
    "print(f\"Confusion Matrix :- \\n{confusion_matrix(y_test, gb.predict(X_test))}\\n\")\n",
    "print(f\"Classification Report :- \\n {classification_report(y_test, gb.predict(X_test))}\")"
   ]
  },
  {
   "cell_type": "code",
   "execution_count": 77,
   "id": "0270b3dc",
   "metadata": {
    "execution": {
     "iopub.execute_input": "2021-08-03T10:27:35.683016Z",
     "iopub.status.busy": "2021-08-03T10:27:35.680569Z",
     "iopub.status.idle": "2021-08-03T10:27:36.004689Z",
     "shell.execute_reply": "2021-08-03T10:27:36.004111Z",
     "shell.execute_reply.started": "2021-08-03T10:09:29.292926Z"
    },
    "papermill": {
     "duration": 0.450977,
     "end_time": "2021-08-03T10:27:36.004903",
     "exception": false,
     "start_time": "2021-08-03T10:27:35.553926",
     "status": "completed"
    },
    "tags": []
   },
   "outputs": [
    {
     "name": "stdout",
     "output_type": "stream",
     "text": [
      "Training Accuracy of Stochastic Gradient Boosting is 1.0\n",
      "Test Accuracy of Stochastic Gradient Boosting is 0.9583333333333334 \n",
      "\n",
      "Confusion Matrix :- \n",
      "[[71  1]\n",
      " [ 4 44]]\n",
      "\n",
      "Classification Report :- \n",
      "               precision    recall  f1-score   support\n",
      "\n",
      "           0       0.95      0.99      0.97        72\n",
      "           1       0.98      0.92      0.95        48\n",
      "\n",
      "    accuracy                           0.96       120\n",
      "   macro avg       0.96      0.95      0.96       120\n",
      "weighted avg       0.96      0.96      0.96       120\n",
      "\n"
     ]
    }
   ],
   "source": [
    "sgb = GradientBoostingClassifier(max_depth = 4, subsample = 0.90, max_features = 0.75, n_estimators = 200)\n",
    "sgb.fit(X_train, y_train)\n",
    "\n",
    "\n",
    "sgb_acc = accuracy_score(y_test, sgb.predict(X_test))\n",
    "\n",
    "print(f\"Training Accuracy of Stochastic Gradient Boosting is {accuracy_score(y_train, sgb.predict(X_train))}\")\n",
    "print(f\"Test Accuracy of Stochastic Gradient Boosting is {sgb_acc} \\n\")\n",
    "\n",
    "print(f\"Confusion Matrix :- \\n{confusion_matrix(y_test, sgb.predict(X_test))}\\n\")\n",
    "print(f\"Classification Report :- \\n {classification_report(y_test, sgb.predict(X_test))}\")"
   ]
  },
  {
   "cell_type": "code",
   "execution_count": 78,
   "id": "e9240394",
   "metadata": {
    "execution": {
     "iopub.execute_input": "2021-08-03T10:27:36.488231Z",
     "iopub.status.busy": "2021-08-03T10:27:36.487488Z",
     "iopub.status.idle": "2021-08-03T10:27:36.658405Z",
     "shell.execute_reply": "2021-08-03T10:27:36.659685Z",
     "shell.execute_reply.started": "2021-08-03T10:09:29.631030Z"
    },
    "papermill": {
     "duration": 0.295935,
     "end_time": "2021-08-03T10:27:36.659899",
     "exception": false,
     "start_time": "2021-08-03T10:27:36.363964",
     "status": "completed"
    },
    "tags": []
   },
   "outputs": [
    {
     "name": "stdout",
     "output_type": "stream",
     "text": [
      "Training Accuracy of XgBoost is 1.0\n",
      "Test Accuracy of XgBoost is 0.9583333333333334 \n",
      "\n",
      "Confusion Matrix :- \n",
      "[[71  1]\n",
      " [ 4 44]]\n",
      "\n",
      "Classification Report :- \n",
      "               precision    recall  f1-score   support\n",
      "\n",
      "           0       0.95      0.99      0.97        72\n",
      "           1       0.98      0.92      0.95        48\n",
      "\n",
      "    accuracy                           0.96       120\n",
      "   macro avg       0.96      0.95      0.96       120\n",
      "weighted avg       0.96      0.96      0.96       120\n",
      "\n"
     ]
    }
   ],
   "source": [
    "from xgboost import XGBClassifier\n",
    "\n",
    "xgb = XGBClassifier(objective = 'binary:logistic', learning_rate = 0.5, max_depth = 5, n_estimators = 150)\n",
    "xgb.fit(X_train, y_train)\n",
    "\n",
    "\n",
    "xgb_acc = accuracy_score(y_test, xgb.predict(X_test))\n",
    "\n",
    "print(f\"Training Accuracy of XgBoost is {accuracy_score(y_train, xgb.predict(X_train))}\")\n",
    "print(f\"Test Accuracy of XgBoost is {xgb_acc} \\n\")\n",
    "\n",
    "print(f\"Confusion Matrix :- \\n{confusion_matrix(y_test, xgb.predict(X_test))}\\n\")\n",
    "print(f\"Classification Report :- \\n {classification_report(y_test, xgb.predict(X_test))}\")"
   ]
  },
  {
   "cell_type": "code",
   "execution_count": 79,
   "id": "18744595",
   "metadata": {
    "execution": {
     "iopub.execute_input": "2021-08-03T10:27:37.148078Z",
     "iopub.status.busy": "2021-08-03T10:27:37.147419Z",
     "iopub.status.idle": "2021-08-03T10:27:37.524994Z",
     "shell.execute_reply": "2021-08-03T10:27:37.525467Z",
     "shell.execute_reply.started": "2021-08-03T10:09:29.734425Z"
    },
    "papermill": {
     "duration": 0.502686,
     "end_time": "2021-08-03T10:27:37.525643",
     "exception": false,
     "start_time": "2021-08-03T10:27:37.022957",
     "status": "completed"
    },
    "tags": []
   },
   "outputs": [
    {
     "name": "stdout",
     "output_type": "stream",
     "text": [
      "Learning rate set to 0.408198\n",
      "0:\tlearn: 0.2676600\ttotal: 168ms\tremaining: 1.51s\n",
      "1:\tlearn: 0.1745135\ttotal: 172ms\tremaining: 689ms\n",
      "2:\tlearn: 0.0963202\ttotal: 175ms\tremaining: 407ms\n",
      "3:\tlearn: 0.0646010\ttotal: 177ms\tremaining: 265ms\n",
      "4:\tlearn: 0.0475494\ttotal: 179ms\tremaining: 179ms\n",
      "5:\tlearn: 0.0370869\ttotal: 187ms\tremaining: 125ms\n",
      "6:\tlearn: 0.0298112\ttotal: 190ms\tremaining: 81.3ms\n",
      "7:\tlearn: 0.0244377\ttotal: 192ms\tremaining: 48.1ms\n",
      "8:\tlearn: 0.0210957\ttotal: 195ms\tremaining: 21.6ms\n",
      "9:\tlearn: 0.0177504\ttotal: 204ms\tremaining: 0us\n"
     ]
    },
    {
     "data": {
      "text/plain": [
       "<catboost.core.CatBoostClassifier at 0x19e85b47d90>"
      ]
     },
     "execution_count": 79,
     "metadata": {},
     "output_type": "execute_result"
    }
   ],
   "source": [
    "from catboost import CatBoostClassifier\n",
    "\n",
    "cat = CatBoostClassifier(iterations=10)\n",
    "cat.fit(X_train, y_train)"
   ]
  },
  {
   "cell_type": "code",
   "execution_count": 80,
   "id": "a40d62d3",
   "metadata": {
    "execution": {
     "iopub.execute_input": "2021-08-03T10:27:37.775247Z",
     "iopub.status.busy": "2021-08-03T10:27:37.774570Z",
     "iopub.status.idle": "2021-08-03T10:27:37.791228Z",
     "shell.execute_reply": "2021-08-03T10:27:37.791738Z",
     "shell.execute_reply.started": "2021-08-03T10:09:29.881094Z"
    },
    "papermill": {
     "duration": 0.145452,
     "end_time": "2021-08-03T10:27:37.791916",
     "exception": false,
     "start_time": "2021-08-03T10:27:37.646464",
     "status": "completed"
    },
    "tags": []
   },
   "outputs": [
    {
     "name": "stdout",
     "output_type": "stream",
     "text": [
      "Training Accuracy of Cat Boost Classifier is 1.0\n",
      "Test Accuracy of Cat Boost Classifier is 0.9833333333333333 \n",
      "\n",
      "Confusion Matrix :- \n",
      "[[71  1]\n",
      " [ 1 47]]\n",
      "\n",
      "Classification Report :- \n",
      "               precision    recall  f1-score   support\n",
      "\n",
      "           0       0.99      0.99      0.99        72\n",
      "           1       0.98      0.98      0.98        48\n",
      "\n",
      "    accuracy                           0.98       120\n",
      "   macro avg       0.98      0.98      0.98       120\n",
      "weighted avg       0.98      0.98      0.98       120\n",
      "\n"
     ]
    }
   ],
   "source": [
    "\n",
    "cat_acc = accuracy_score(y_test, cat.predict(X_test))\n",
    "\n",
    "print(f\"Training Accuracy of Cat Boost Classifier is {accuracy_score(y_train, cat.predict(X_train))}\")\n",
    "print(f\"Test Accuracy of Cat Boost Classifier is {cat_acc} \\n\")\n",
    "\n",
    "print(f\"Confusion Matrix :- \\n{confusion_matrix(y_test, cat.predict(X_test))}\\n\")\n",
    "print(f\"Classification Report :- \\n {classification_report(y_test, cat.predict(X_test))}\")"
   ]
  },
  {
   "cell_type": "code",
   "execution_count": 81,
   "id": "fa0260e3",
   "metadata": {
    "execution": {
     "iopub.execute_input": "2021-08-03T10:27:38.282591Z",
     "iopub.status.busy": "2021-08-03T10:27:38.281564Z",
     "iopub.status.idle": "2021-08-03T10:27:38.474177Z",
     "shell.execute_reply": "2021-08-03T10:27:38.473306Z",
     "shell.execute_reply.started": "2021-08-03T10:09:29.904806Z"
    },
    "papermill": {
     "duration": 0.321475,
     "end_time": "2021-08-03T10:27:38.474354",
     "exception": false,
     "start_time": "2021-08-03T10:27:38.152879",
     "status": "completed"
    },
    "tags": []
   },
   "outputs": [
    {
     "name": "stdout",
     "output_type": "stream",
     "text": [
      "Training Accuracy of Extra Trees Classifier is 1.0\n",
      "Test Accuracy of Extra Trees Classifier is 0.9833333333333333 \n",
      "\n",
      "Confusion Matrix :- \n",
      "[[72  0]\n",
      " [ 2 46]]\n",
      "\n",
      "Classification Report :- \n",
      "               precision    recall  f1-score   support\n",
      "\n",
      "           0       0.97      1.00      0.99        72\n",
      "           1       1.00      0.96      0.98        48\n",
      "\n",
      "    accuracy                           0.98       120\n",
      "   macro avg       0.99      0.98      0.98       120\n",
      "weighted avg       0.98      0.98      0.98       120\n",
      "\n"
     ]
    }
   ],
   "source": [
    "from sklearn.ensemble import ExtraTreesClassifier\n",
    "\n",
    "etc = ExtraTreesClassifier()\n",
    "etc.fit(X_train, y_train)\n",
    "\n",
    "\n",
    "etc_acc = accuracy_score(y_test, etc.predict(X_test))\n",
    "\n",
    "print(f\"Training Accuracy of Extra Trees Classifier is {accuracy_score(y_train, etc.predict(X_train))}\")\n",
    "print(f\"Test Accuracy of Extra Trees Classifier is {etc_acc} \\n\")\n",
    "\n",
    "print(f\"Confusion Matrix :- \\n{confusion_matrix(y_test, etc.predict(X_test))}\\n\")\n",
    "print(f\"Classification Report :- \\n {classification_report(y_test, etc.predict(X_test))}\")"
   ]
  },
  {
   "cell_type": "code",
   "execution_count": 82,
   "id": "f6a932da",
   "metadata": {
    "execution": {
     "iopub.execute_input": "2021-08-03T10:27:38.959727Z",
     "iopub.status.busy": "2021-08-03T10:27:38.959068Z",
     "iopub.status.idle": "2021-08-03T10:27:39.393823Z",
     "shell.execute_reply": "2021-08-03T10:27:39.394616Z",
     "shell.execute_reply.started": "2021-08-03T10:09:30.112609Z"
    },
    "papermill": {
     "duration": 0.560678,
     "end_time": "2021-08-03T10:27:39.394880",
     "exception": false,
     "start_time": "2021-08-03T10:27:38.834202",
     "status": "completed"
    },
    "tags": []
   },
   "outputs": [
    {
     "name": "stdout",
     "output_type": "stream",
     "text": [
      "[LightGBM] [Info] Number of positive: 102, number of negative: 178\n",
      "[LightGBM] [Info] Auto-choosing row-wise multi-threading, the overhead of testing was 0.000951 seconds.\n",
      "You can set `force_row_wise=true` to remove the overhead.\n",
      "And if memory is not enough, you can set `force_col_wise=true`.\n",
      "[LightGBM] [Info] Total Bins 515\n",
      "[LightGBM] [Info] Number of data points in the train set: 280, number of used features: 23\n",
      "[LightGBM] [Info] [binary:BoostFromScore]: pavg=0.364286 -> initscore=-0.556811\n",
      "[LightGBM] [Info] Start training from score -0.556811\n",
      "[LightGBM] [Warning] No further splits with positive gain, best gain: -inf\n",
      "[LightGBM] [Warning] No further splits with positive gain, best gain: -inf\n",
      "[LightGBM] [Warning] No further splits with positive gain, best gain: -inf\n",
      "[LightGBM] [Warning] No further splits with positive gain, best gain: -inf\n",
      "[LightGBM] [Warning] No further splits with positive gain, best gain: -inf\n",
      "[LightGBM] [Warning] No further splits with positive gain, best gain: -inf\n",
      "[LightGBM] [Warning] No further splits with positive gain, best gain: -inf\n",
      "[LightGBM] [Warning] No further splits with positive gain, best gain: -inf\n",
      "[LightGBM] [Warning] No further splits with positive gain, best gain: -inf\n",
      "[LightGBM] [Warning] No further splits with positive gain, best gain: -inf\n",
      "[LightGBM] [Warning] No further splits with positive gain, best gain: -inf\n",
      "[LightGBM] [Warning] No further splits with positive gain, best gain: -inf\n",
      "[LightGBM] [Warning] No further splits with positive gain, best gain: -inf\n",
      "[LightGBM] [Warning] No further splits with positive gain, best gain: -inf\n",
      "[LightGBM] [Warning] No further splits with positive gain, best gain: -inf\n",
      "[LightGBM] [Warning] No further splits with positive gain, best gain: -inf\n",
      "[LightGBM] [Warning] No further splits with positive gain, best gain: -inf\n",
      "[LightGBM] [Warning] No further splits with positive gain, best gain: -inf\n",
      "[LightGBM] [Warning] No further splits with positive gain, best gain: -inf\n",
      "[LightGBM] [Warning] No further splits with positive gain, best gain: -inf\n",
      "[LightGBM] [Warning] No further splits with positive gain, best gain: -inf\n",
      "[LightGBM] [Warning] No further splits with positive gain, best gain: -inf\n",
      "[LightGBM] [Warning] No further splits with positive gain, best gain: -inf\n",
      "[LightGBM] [Warning] No further splits with positive gain, best gain: -inf\n",
      "[LightGBM] [Warning] No further splits with positive gain, best gain: -inf\n",
      "[LightGBM] [Warning] No further splits with positive gain, best gain: -inf\n",
      "[LightGBM] [Warning] No further splits with positive gain, best gain: -inf\n",
      "[LightGBM] [Warning] No further splits with positive gain, best gain: -inf\n",
      "[LightGBM] [Warning] No further splits with positive gain, best gain: -inf\n",
      "[LightGBM] [Warning] No further splits with positive gain, best gain: -inf\n",
      "[LightGBM] [Warning] No further splits with positive gain, best gain: -inf\n",
      "[LightGBM] [Warning] No further splits with positive gain, best gain: -inf\n",
      "[LightGBM] [Warning] No further splits with positive gain, best gain: -inf\n",
      "[LightGBM] [Warning] No further splits with positive gain, best gain: -inf\n",
      "[LightGBM] [Warning] No further splits with positive gain, best gain: -inf\n",
      "[LightGBM] [Warning] No further splits with positive gain, best gain: -inf\n",
      "[LightGBM] [Warning] No further splits with positive gain, best gain: -inf\n",
      "[LightGBM] [Warning] No further splits with positive gain, best gain: -inf\n",
      "[LightGBM] [Warning] No further splits with positive gain, best gain: -inf\n",
      "[LightGBM] [Warning] No further splits with positive gain, best gain: -inf\n",
      "[LightGBM] [Warning] No further splits with positive gain, best gain: -inf\n",
      "[LightGBM] [Warning] No further splits with positive gain, best gain: -inf\n",
      "[LightGBM] [Warning] No further splits with positive gain, best gain: -inf\n",
      "[LightGBM] [Warning] No further splits with positive gain, best gain: -inf\n",
      "[LightGBM] [Warning] No further splits with positive gain, best gain: -inf\n",
      "[LightGBM] [Warning] No further splits with positive gain, best gain: -inf\n",
      "[LightGBM] [Warning] No further splits with positive gain, best gain: -inf\n",
      "[LightGBM] [Warning] No further splits with positive gain, best gain: -inf\n",
      "[LightGBM] [Warning] No further splits with positive gain, best gain: -inf\n",
      "[LightGBM] [Warning] No further splits with positive gain, best gain: -inf\n",
      "[LightGBM] [Warning] No further splits with positive gain, best gain: -inf\n",
      "[LightGBM] [Warning] No further splits with positive gain, best gain: -inf\n",
      "[LightGBM] [Warning] No further splits with positive gain, best gain: -inf\n",
      "[LightGBM] [Warning] No further splits with positive gain, best gain: -inf\n",
      "[LightGBM] [Warning] No further splits with positive gain, best gain: -inf\n",
      "[LightGBM] [Warning] No further splits with positive gain, best gain: -inf\n",
      "[LightGBM] [Warning] No further splits with positive gain, best gain: -inf\n",
      "[LightGBM] [Warning] No further splits with positive gain, best gain: -inf\n",
      "[LightGBM] [Warning] No further splits with positive gain, best gain: -inf\n",
      "[LightGBM] [Warning] No further splits with positive gain, best gain: -inf\n",
      "[LightGBM] [Warning] No further splits with positive gain, best gain: -inf\n",
      "[LightGBM] [Warning] No further splits with positive gain, best gain: -inf\n",
      "[LightGBM] [Warning] No further splits with positive gain, best gain: -inf\n",
      "[LightGBM] [Warning] No further splits with positive gain, best gain: -inf\n",
      "[LightGBM] [Warning] No further splits with positive gain, best gain: -inf\n",
      "[LightGBM] [Warning] No further splits with positive gain, best gain: -inf\n",
      "[LightGBM] [Warning] No further splits with positive gain, best gain: -inf\n",
      "[LightGBM] [Warning] No further splits with positive gain, best gain: -inf\n",
      "[LightGBM] [Warning] No further splits with positive gain, best gain: -inf\n",
      "[LightGBM] [Warning] No further splits with positive gain, best gain: -inf\n",
      "[LightGBM] [Warning] No further splits with positive gain, best gain: -inf\n",
      "[LightGBM] [Warning] No further splits with positive gain, best gain: -inf\n",
      "[LightGBM] [Warning] No further splits with positive gain, best gain: -inf\n",
      "[LightGBM] [Warning] No further splits with positive gain, best gain: -inf\n",
      "[LightGBM] [Warning] No further splits with positive gain, best gain: -inf\n",
      "[LightGBM] [Warning] No further splits with positive gain, best gain: -inf\n",
      "[LightGBM] [Warning] No further splits with positive gain, best gain: -inf\n",
      "[LightGBM] [Warning] No further splits with positive gain, best gain: -inf\n",
      "[LightGBM] [Warning] No further splits with positive gain, best gain: -inf\n",
      "[LightGBM] [Warning] No further splits with positive gain, best gain: -inf\n",
      "[LightGBM] [Warning] No further splits with positive gain, best gain: -inf\n",
      "[LightGBM] [Warning] No further splits with positive gain, best gain: -inf\n",
      "[LightGBM] [Warning] No further splits with positive gain, best gain: -inf\n",
      "[LightGBM] [Warning] No further splits with positive gain, best gain: -inf\n",
      "[LightGBM] [Warning] No further splits with positive gain, best gain: -inf\n",
      "[LightGBM] [Warning] No further splits with positive gain, best gain: -inf\n",
      "[LightGBM] [Warning] No further splits with positive gain, best gain: -inf\n",
      "[LightGBM] [Warning] No further splits with positive gain, best gain: -inf\n",
      "[LightGBM] [Warning] No further splits with positive gain, best gain: -inf\n",
      "[LightGBM] [Warning] No further splits with positive gain, best gain: -inf\n",
      "[LightGBM] [Warning] No further splits with positive gain, best gain: -inf\n",
      "[LightGBM] [Warning] No further splits with positive gain, best gain: -inf\n",
      "[LightGBM] [Warning] No further splits with positive gain, best gain: -inf\n",
      "[LightGBM] [Warning] No further splits with positive gain, best gain: -inf\n",
      "[LightGBM] [Warning] No further splits with positive gain, best gain: -inf\n",
      "[LightGBM] [Warning] No further splits with positive gain, best gain: -inf\n",
      "[LightGBM] [Warning] No further splits with positive gain, best gain: -inf\n",
      "[LightGBM] [Warning] No further splits with positive gain, best gain: -inf\n",
      "[LightGBM] [Warning] No further splits with positive gain, best gain: -inf\n",
      "[LightGBM] [Warning] No further splits with positive gain, best gain: -inf\n",
      "Training Accuracy of LGBM Classifier is 1.0\n",
      "Test Accuracy of LGBM Classifier is 0.9666666666666667 \n",
      "\n",
      "[[71  1]\n",
      " [ 3 45]]\n",
      "\n",
      "              precision    recall  f1-score   support\n",
      "\n",
      "           0       0.96      0.99      0.97        72\n",
      "           1       0.98      0.94      0.96        48\n",
      "\n",
      "    accuracy                           0.97       120\n",
      "   macro avg       0.97      0.96      0.97       120\n",
      "weighted avg       0.97      0.97      0.97       120\n",
      "\n"
     ]
    }
   ],
   "source": [
    "from lightgbm import LGBMClassifier\n",
    "\n",
    "lgbm = LGBMClassifier(learning_rate = 1)\n",
    "lgbm.fit(X_train, y_train)\n",
    "\n",
    "\n",
    "lgbm_acc = accuracy_score(y_test, lgbm.predict(X_test))\n",
    "\n",
    "print(f\"Training Accuracy of LGBM Classifier is {accuracy_score(y_train, lgbm.predict(X_train))}\")\n",
    "print(f\"Test Accuracy of LGBM Classifier is {lgbm_acc} \\n\")\n",
    "\n",
    "print(f\"{confusion_matrix(y_test, lgbm.predict(X_test))}\\n\")\n",
    "print(classification_report(y_test, lgbm.predict(X_test)))"
   ]
  },
  {
   "cell_type": "code",
   "execution_count": 83,
   "id": "d0edf63f",
   "metadata": {
    "execution": {
     "iopub.execute_input": "2021-08-03T10:27:39.897082Z",
     "iopub.status.busy": "2021-08-03T10:27:39.896076Z",
     "iopub.status.idle": "2021-08-03T10:27:39.900448Z",
     "shell.execute_reply": "2021-08-03T10:27:39.899847Z",
     "shell.execute_reply.started": "2021-08-03T10:09:30.502974Z"
    },
    "papermill": {
     "duration": 0.137113,
     "end_time": "2021-08-03T10:27:39.900584",
     "exception": false,
     "start_time": "2021-08-03T10:27:39.763471",
     "status": "completed"
    },
    "tags": []
   },
   "outputs": [
    {
     "data": {
      "text/html": [
       "<div>\n",
       "<style scoped>\n",
       "    .dataframe tbody tr th:only-of-type {\n",
       "        vertical-align: middle;\n",
       "    }\n",
       "\n",
       "    .dataframe tbody tr th {\n",
       "        vertical-align: top;\n",
       "    }\n",
       "\n",
       "    .dataframe thead th {\n",
       "        text-align: right;\n",
       "    }\n",
       "</style>\n",
       "<table border=\"1\" class=\"dataframe\">\n",
       "  <thead>\n",
       "    <tr style=\"text-align: right;\">\n",
       "      <th></th>\n",
       "      <th>Model</th>\n",
       "      <th>Score</th>\n",
       "    </tr>\n",
       "  </thead>\n",
       "  <tbody>\n",
       "    <tr>\n",
       "      <th>5</th>\n",
       "      <td>Cat Boost</td>\n",
       "      <td>0.983333</td>\n",
       "    </tr>\n",
       "    <tr>\n",
       "      <th>6</th>\n",
       "      <td>Extra Trees Classifier</td>\n",
       "      <td>0.983333</td>\n",
       "    </tr>\n",
       "    <tr>\n",
       "      <th>1</th>\n",
       "      <td>Ada Boost Classifier</td>\n",
       "      <td>0.958333</td>\n",
       "    </tr>\n",
       "    <tr>\n",
       "      <th>2</th>\n",
       "      <td>Gradient Boosting Classifier</td>\n",
       "      <td>0.958333</td>\n",
       "    </tr>\n",
       "    <tr>\n",
       "      <th>3</th>\n",
       "      <td>Stochastic Gradient Boosting</td>\n",
       "      <td>0.958333</td>\n",
       "    </tr>\n",
       "    <tr>\n",
       "      <th>4</th>\n",
       "      <td>XgBoost</td>\n",
       "      <td>0.958333</td>\n",
       "    </tr>\n",
       "    <tr>\n",
       "      <th>0</th>\n",
       "      <td>Decision Tree Classifier</td>\n",
       "      <td>0.941667</td>\n",
       "    </tr>\n",
       "  </tbody>\n",
       "</table>\n",
       "</div>"
      ],
      "text/plain": [
       "                          Model     Score\n",
       "5                     Cat Boost  0.983333\n",
       "6        Extra Trees Classifier  0.983333\n",
       "1          Ada Boost Classifier  0.958333\n",
       "2  Gradient Boosting Classifier  0.958333\n",
       "3  Stochastic Gradient Boosting  0.958333\n",
       "4                       XgBoost  0.958333\n",
       "0      Decision Tree Classifier  0.941667"
      ]
     },
     "execution_count": 83,
     "metadata": {},
     "output_type": "execute_result"
    }
   ],
   "source": [
    "models = pd.DataFrame({\n",
    "    'Model' : [  'Decision Tree Classifier','Ada Boost Classifier',\n",
    "             'Gradient Boosting Classifier', 'Stochastic Gradient Boosting', 'XgBoost', 'Cat Boost', 'Extra Trees Classifier'],\n",
    "    'Score' : [ dtc_acc, ada_acc, gb_acc, sgb_acc, xgb_acc, cat_acc, etc_acc]\n",
    "})\n",
    "\n",
    "\n",
    "models.sort_values(by = 'Score', ascending = False)"
   ]
  },
  {
   "cell_type": "code",
   "execution_count": 84,
   "id": "472c52ec",
   "metadata": {
    "execution": {
     "iopub.execute_input": "2021-08-03T10:27:40.369495Z",
     "iopub.status.busy": "2021-08-03T10:27:40.365513Z",
     "iopub.status.idle": "2021-08-03T10:27:40.409151Z",
     "shell.execute_reply": "2021-08-03T10:27:40.409636Z",
     "shell.execute_reply.started": "2021-08-03T10:25:38.262285Z"
    },
    "papermill": {
     "duration": 0.390074,
     "end_time": "2021-08-03T10:27:40.409843",
     "exception": false,
     "start_time": "2021-08-03T10:27:40.019769",
     "status": "completed"
    },
    "tags": []
   },
   "outputs": [
    {
     "data": {
      "application/vnd.plotly.v1+json": {
       "config": {
        "plotlyServerURL": "https://plot.ly"
       },
       "data": [
        {
         "alignmentgroup": "True",
         "hovertemplate": "Score=%{marker.color}<br>Model=%{y}<extra></extra>",
         "legendgroup": "",
         "marker": {
          "color": [
           0.9416666666666667,
           0.9583333333333334,
           0.9583333333333334,
           0.9583333333333334,
           0.9583333333333334,
           0.9833333333333333,
           0.9833333333333333
          ],
          "coloraxis": "coloraxis",
          "pattern": {
           "shape": ""
          }
         },
         "name": "",
         "offsetgroup": "",
         "orientation": "h",
         "showlegend": false,
         "textposition": "auto",
         "type": "bar",
         "x": [
          0.9416666666666667,
          0.9583333333333334,
          0.9583333333333334,
          0.9583333333333334,
          0.9583333333333334,
          0.9833333333333333,
          0.9833333333333333
         ],
         "xaxis": "x",
         "y": [
          "Decision Tree Classifier",
          "Ada Boost Classifier",
          "Gradient Boosting Classifier",
          "Stochastic Gradient Boosting",
          "XgBoost",
          "Cat Boost",
          "Extra Trees Classifier"
         ],
         "yaxis": "y"
        }
       ],
       "layout": {
        "barmode": "relative",
        "coloraxis": {
         "colorbar": {
          "title": {
           "text": "Score"
          }
         },
         "colorscale": [
          [
           0,
           "#0d0887"
          ],
          [
           0.1111111111111111,
           "#46039f"
          ],
          [
           0.2222222222222222,
           "#7201a8"
          ],
          [
           0.3333333333333333,
           "#9c179e"
          ],
          [
           0.4444444444444444,
           "#bd3786"
          ],
          [
           0.5555555555555556,
           "#d8576b"
          ],
          [
           0.6666666666666666,
           "#ed7953"
          ],
          [
           0.7777777777777778,
           "#fb9f3a"
          ],
          [
           0.8888888888888888,
           "#fdca26"
          ],
          [
           1,
           "#f0f921"
          ]
         ]
        },
        "legend": {
         "tracegroupgap": 0
        },
        "template": {
         "data": {
          "bar": [
           {
            "error_x": {
             "color": "#f2f5fa"
            },
            "error_y": {
             "color": "#f2f5fa"
            },
            "marker": {
             "line": {
              "color": "rgb(17,17,17)",
              "width": 0.5
             },
             "pattern": {
              "fillmode": "overlay",
              "size": 10,
              "solidity": 0.2
             }
            },
            "type": "bar"
           }
          ],
          "barpolar": [
           {
            "marker": {
             "line": {
              "color": "rgb(17,17,17)",
              "width": 0.5
             },
             "pattern": {
              "fillmode": "overlay",
              "size": 10,
              "solidity": 0.2
             }
            },
            "type": "barpolar"
           }
          ],
          "carpet": [
           {
            "aaxis": {
             "endlinecolor": "#A2B1C6",
             "gridcolor": "#506784",
             "linecolor": "#506784",
             "minorgridcolor": "#506784",
             "startlinecolor": "#A2B1C6"
            },
            "baxis": {
             "endlinecolor": "#A2B1C6",
             "gridcolor": "#506784",
             "linecolor": "#506784",
             "minorgridcolor": "#506784",
             "startlinecolor": "#A2B1C6"
            },
            "type": "carpet"
           }
          ],
          "choropleth": [
           {
            "colorbar": {
             "outlinewidth": 0,
             "ticks": ""
            },
            "type": "choropleth"
           }
          ],
          "contour": [
           {
            "colorbar": {
             "outlinewidth": 0,
             "ticks": ""
            },
            "colorscale": [
             [
              0,
              "#0d0887"
             ],
             [
              0.1111111111111111,
              "#46039f"
             ],
             [
              0.2222222222222222,
              "#7201a8"
             ],
             [
              0.3333333333333333,
              "#9c179e"
             ],
             [
              0.4444444444444444,
              "#bd3786"
             ],
             [
              0.5555555555555556,
              "#d8576b"
             ],
             [
              0.6666666666666666,
              "#ed7953"
             ],
             [
              0.7777777777777778,
              "#fb9f3a"
             ],
             [
              0.8888888888888888,
              "#fdca26"
             ],
             [
              1,
              "#f0f921"
             ]
            ],
            "type": "contour"
           }
          ],
          "contourcarpet": [
           {
            "colorbar": {
             "outlinewidth": 0,
             "ticks": ""
            },
            "type": "contourcarpet"
           }
          ],
          "heatmap": [
           {
            "colorbar": {
             "outlinewidth": 0,
             "ticks": ""
            },
            "colorscale": [
             [
              0,
              "#0d0887"
             ],
             [
              0.1111111111111111,
              "#46039f"
             ],
             [
              0.2222222222222222,
              "#7201a8"
             ],
             [
              0.3333333333333333,
              "#9c179e"
             ],
             [
              0.4444444444444444,
              "#bd3786"
             ],
             [
              0.5555555555555556,
              "#d8576b"
             ],
             [
              0.6666666666666666,
              "#ed7953"
             ],
             [
              0.7777777777777778,
              "#fb9f3a"
             ],
             [
              0.8888888888888888,
              "#fdca26"
             ],
             [
              1,
              "#f0f921"
             ]
            ],
            "type": "heatmap"
           }
          ],
          "heatmapgl": [
           {
            "colorbar": {
             "outlinewidth": 0,
             "ticks": ""
            },
            "colorscale": [
             [
              0,
              "#0d0887"
             ],
             [
              0.1111111111111111,
              "#46039f"
             ],
             [
              0.2222222222222222,
              "#7201a8"
             ],
             [
              0.3333333333333333,
              "#9c179e"
             ],
             [
              0.4444444444444444,
              "#bd3786"
             ],
             [
              0.5555555555555556,
              "#d8576b"
             ],
             [
              0.6666666666666666,
              "#ed7953"
             ],
             [
              0.7777777777777778,
              "#fb9f3a"
             ],
             [
              0.8888888888888888,
              "#fdca26"
             ],
             [
              1,
              "#f0f921"
             ]
            ],
            "type": "heatmapgl"
           }
          ],
          "histogram": [
           {
            "marker": {
             "pattern": {
              "fillmode": "overlay",
              "size": 10,
              "solidity": 0.2
             }
            },
            "type": "histogram"
           }
          ],
          "histogram2d": [
           {
            "colorbar": {
             "outlinewidth": 0,
             "ticks": ""
            },
            "colorscale": [
             [
              0,
              "#0d0887"
             ],
             [
              0.1111111111111111,
              "#46039f"
             ],
             [
              0.2222222222222222,
              "#7201a8"
             ],
             [
              0.3333333333333333,
              "#9c179e"
             ],
             [
              0.4444444444444444,
              "#bd3786"
             ],
             [
              0.5555555555555556,
              "#d8576b"
             ],
             [
              0.6666666666666666,
              "#ed7953"
             ],
             [
              0.7777777777777778,
              "#fb9f3a"
             ],
             [
              0.8888888888888888,
              "#fdca26"
             ],
             [
              1,
              "#f0f921"
             ]
            ],
            "type": "histogram2d"
           }
          ],
          "histogram2dcontour": [
           {
            "colorbar": {
             "outlinewidth": 0,
             "ticks": ""
            },
            "colorscale": [
             [
              0,
              "#0d0887"
             ],
             [
              0.1111111111111111,
              "#46039f"
             ],
             [
              0.2222222222222222,
              "#7201a8"
             ],
             [
              0.3333333333333333,
              "#9c179e"
             ],
             [
              0.4444444444444444,
              "#bd3786"
             ],
             [
              0.5555555555555556,
              "#d8576b"
             ],
             [
              0.6666666666666666,
              "#ed7953"
             ],
             [
              0.7777777777777778,
              "#fb9f3a"
             ],
             [
              0.8888888888888888,
              "#fdca26"
             ],
             [
              1,
              "#f0f921"
             ]
            ],
            "type": "histogram2dcontour"
           }
          ],
          "mesh3d": [
           {
            "colorbar": {
             "outlinewidth": 0,
             "ticks": ""
            },
            "type": "mesh3d"
           }
          ],
          "parcoords": [
           {
            "line": {
             "colorbar": {
              "outlinewidth": 0,
              "ticks": ""
             }
            },
            "type": "parcoords"
           }
          ],
          "pie": [
           {
            "automargin": true,
            "type": "pie"
           }
          ],
          "scatter": [
           {
            "marker": {
             "line": {
              "color": "#283442"
             }
            },
            "type": "scatter"
           }
          ],
          "scatter3d": [
           {
            "line": {
             "colorbar": {
              "outlinewidth": 0,
              "ticks": ""
             }
            },
            "marker": {
             "colorbar": {
              "outlinewidth": 0,
              "ticks": ""
             }
            },
            "type": "scatter3d"
           }
          ],
          "scattercarpet": [
           {
            "marker": {
             "colorbar": {
              "outlinewidth": 0,
              "ticks": ""
             }
            },
            "type": "scattercarpet"
           }
          ],
          "scattergeo": [
           {
            "marker": {
             "colorbar": {
              "outlinewidth": 0,
              "ticks": ""
             }
            },
            "type": "scattergeo"
           }
          ],
          "scattergl": [
           {
            "marker": {
             "line": {
              "color": "#283442"
             }
            },
            "type": "scattergl"
           }
          ],
          "scattermapbox": [
           {
            "marker": {
             "colorbar": {
              "outlinewidth": 0,
              "ticks": ""
             }
            },
            "type": "scattermapbox"
           }
          ],
          "scatterpolar": [
           {
            "marker": {
             "colorbar": {
              "outlinewidth": 0,
              "ticks": ""
             }
            },
            "type": "scatterpolar"
           }
          ],
          "scatterpolargl": [
           {
            "marker": {
             "colorbar": {
              "outlinewidth": 0,
              "ticks": ""
             }
            },
            "type": "scatterpolargl"
           }
          ],
          "scatterternary": [
           {
            "marker": {
             "colorbar": {
              "outlinewidth": 0,
              "ticks": ""
             }
            },
            "type": "scatterternary"
           }
          ],
          "surface": [
           {
            "colorbar": {
             "outlinewidth": 0,
             "ticks": ""
            },
            "colorscale": [
             [
              0,
              "#0d0887"
             ],
             [
              0.1111111111111111,
              "#46039f"
             ],
             [
              0.2222222222222222,
              "#7201a8"
             ],
             [
              0.3333333333333333,
              "#9c179e"
             ],
             [
              0.4444444444444444,
              "#bd3786"
             ],
             [
              0.5555555555555556,
              "#d8576b"
             ],
             [
              0.6666666666666666,
              "#ed7953"
             ],
             [
              0.7777777777777778,
              "#fb9f3a"
             ],
             [
              0.8888888888888888,
              "#fdca26"
             ],
             [
              1,
              "#f0f921"
             ]
            ],
            "type": "surface"
           }
          ],
          "table": [
           {
            "cells": {
             "fill": {
              "color": "#506784"
             },
             "line": {
              "color": "rgb(17,17,17)"
             }
            },
            "header": {
             "fill": {
              "color": "#2a3f5f"
             },
             "line": {
              "color": "rgb(17,17,17)"
             }
            },
            "type": "table"
           }
          ]
         },
         "layout": {
          "annotationdefaults": {
           "arrowcolor": "#f2f5fa",
           "arrowhead": 0,
           "arrowwidth": 1
          },
          "autotypenumbers": "strict",
          "coloraxis": {
           "colorbar": {
            "outlinewidth": 0,
            "ticks": ""
           }
          },
          "colorscale": {
           "diverging": [
            [
             0,
             "#8e0152"
            ],
            [
             0.1,
             "#c51b7d"
            ],
            [
             0.2,
             "#de77ae"
            ],
            [
             0.3,
             "#f1b6da"
            ],
            [
             0.4,
             "#fde0ef"
            ],
            [
             0.5,
             "#f7f7f7"
            ],
            [
             0.6,
             "#e6f5d0"
            ],
            [
             0.7,
             "#b8e186"
            ],
            [
             0.8,
             "#7fbc41"
            ],
            [
             0.9,
             "#4d9221"
            ],
            [
             1,
             "#276419"
            ]
           ],
           "sequential": [
            [
             0,
             "#0d0887"
            ],
            [
             0.1111111111111111,
             "#46039f"
            ],
            [
             0.2222222222222222,
             "#7201a8"
            ],
            [
             0.3333333333333333,
             "#9c179e"
            ],
            [
             0.4444444444444444,
             "#bd3786"
            ],
            [
             0.5555555555555556,
             "#d8576b"
            ],
            [
             0.6666666666666666,
             "#ed7953"
            ],
            [
             0.7777777777777778,
             "#fb9f3a"
            ],
            [
             0.8888888888888888,
             "#fdca26"
            ],
            [
             1,
             "#f0f921"
            ]
           ],
           "sequentialminus": [
            [
             0,
             "#0d0887"
            ],
            [
             0.1111111111111111,
             "#46039f"
            ],
            [
             0.2222222222222222,
             "#7201a8"
            ],
            [
             0.3333333333333333,
             "#9c179e"
            ],
            [
             0.4444444444444444,
             "#bd3786"
            ],
            [
             0.5555555555555556,
             "#d8576b"
            ],
            [
             0.6666666666666666,
             "#ed7953"
            ],
            [
             0.7777777777777778,
             "#fb9f3a"
            ],
            [
             0.8888888888888888,
             "#fdca26"
            ],
            [
             1,
             "#f0f921"
            ]
           ]
          },
          "colorway": [
           "#636efa",
           "#EF553B",
           "#00cc96",
           "#ab63fa",
           "#FFA15A",
           "#19d3f3",
           "#FF6692",
           "#B6E880",
           "#FF97FF",
           "#FECB52"
          ],
          "font": {
           "color": "#f2f5fa"
          },
          "geo": {
           "bgcolor": "rgb(17,17,17)",
           "lakecolor": "rgb(17,17,17)",
           "landcolor": "rgb(17,17,17)",
           "showlakes": true,
           "showland": true,
           "subunitcolor": "#506784"
          },
          "hoverlabel": {
           "align": "left"
          },
          "hovermode": "closest",
          "mapbox": {
           "style": "dark"
          },
          "paper_bgcolor": "rgb(17,17,17)",
          "plot_bgcolor": "rgb(17,17,17)",
          "polar": {
           "angularaxis": {
            "gridcolor": "#506784",
            "linecolor": "#506784",
            "ticks": ""
           },
           "bgcolor": "rgb(17,17,17)",
           "radialaxis": {
            "gridcolor": "#506784",
            "linecolor": "#506784",
            "ticks": ""
           }
          },
          "scene": {
           "xaxis": {
            "backgroundcolor": "rgb(17,17,17)",
            "gridcolor": "#506784",
            "gridwidth": 2,
            "linecolor": "#506784",
            "showbackground": true,
            "ticks": "",
            "zerolinecolor": "#C8D4E3"
           },
           "yaxis": {
            "backgroundcolor": "rgb(17,17,17)",
            "gridcolor": "#506784",
            "gridwidth": 2,
            "linecolor": "#506784",
            "showbackground": true,
            "ticks": "",
            "zerolinecolor": "#C8D4E3"
           },
           "zaxis": {
            "backgroundcolor": "rgb(17,17,17)",
            "gridcolor": "#506784",
            "gridwidth": 2,
            "linecolor": "#506784",
            "showbackground": true,
            "ticks": "",
            "zerolinecolor": "#C8D4E3"
           }
          },
          "shapedefaults": {
           "line": {
            "color": "#f2f5fa"
           }
          },
          "sliderdefaults": {
           "bgcolor": "#C8D4E3",
           "bordercolor": "rgb(17,17,17)",
           "borderwidth": 1,
           "tickwidth": 0
          },
          "ternary": {
           "aaxis": {
            "gridcolor": "#506784",
            "linecolor": "#506784",
            "ticks": ""
           },
           "baxis": {
            "gridcolor": "#506784",
            "linecolor": "#506784",
            "ticks": ""
           },
           "bgcolor": "rgb(17,17,17)",
           "caxis": {
            "gridcolor": "#506784",
            "linecolor": "#506784",
            "ticks": ""
           }
          },
          "title": {
           "x": 0.05
          },
          "updatemenudefaults": {
           "bgcolor": "#506784",
           "borderwidth": 0
          },
          "xaxis": {
           "automargin": true,
           "gridcolor": "#283442",
           "linecolor": "#506784",
           "ticks": "",
           "title": {
            "standoff": 15
           },
           "zerolinecolor": "#283442",
           "zerolinewidth": 2
          },
          "yaxis": {
           "automargin": true,
           "gridcolor": "#283442",
           "linecolor": "#506784",
           "ticks": "",
           "title": {
            "standoff": 15
           },
           "zerolinecolor": "#283442",
           "zerolinewidth": 2
          }
         }
        },
        "title": {
         "text": "Models Comparison"
        },
        "xaxis": {
         "anchor": "y",
         "domain": [
          0,
          1
         ],
         "title": {
          "text": "Score"
         }
        },
        "yaxis": {
         "anchor": "x",
         "domain": [
          0,
          1
         ],
         "title": {
          "text": "Model"
         }
        }
       }
      }
     },
     "metadata": {},
     "output_type": "display_data"
    }
   ],
   "source": [
    "px.bar(data_frame = models, x = 'Score', y = 'Model', color = 'Score', template = 'plotly_dark', \n",
    "       title = 'Models Comparison')"
   ]
  },
  {
   "cell_type": "code",
   "execution_count": 85,
   "id": "f2c1a2ec",
   "metadata": {},
   "outputs": [],
   "source": [
    "import pickle\n",
    "file = open('kidney.pkl','wb')\n",
    "pickle.dump(cat,file)\n",
    "file.close()"
   ]
  },
  {
   "cell_type": "code",
   "execution_count": null,
   "id": "4a2ab66c",
   "metadata": {},
   "outputs": [],
   "source": []
  },
  {
   "cell_type": "code",
   "execution_count": null,
   "id": "07c87391",
   "metadata": {},
   "outputs": [],
   "source": []
  }
 ],
 "metadata": {
  "kernelspec": {
   "display_name": "Python 3",
   "language": "python",
   "name": "python3"
  },
  "language_info": {
   "codemirror_mode": {
    "name": "ipython",
    "version": 3
   },
   "file_extension": ".py",
   "mimetype": "text/x-python",
   "name": "python",
   "nbconvert_exporter": "python",
   "pygments_lexer": "ipython3",
   "version": "3.11.0"
  },
  "papermill": {
   "default_parameters": {},
   "duration": 63.932833,
   "end_time": "2021-08-03T10:27:41.688051",
   "environment_variables": {},
   "exception": null,
   "input_path": "__notebook__.ipynb",
   "output_path": "__notebook__.ipynb",
   "parameters": {},
   "start_time": "2021-08-03T10:26:37.755218",
   "version": "2.3.3"
  }
 },
 "nbformat": 4,
 "nbformat_minor": 5
}
