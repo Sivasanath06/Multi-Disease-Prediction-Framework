{
 "cells": [
  {
   "cell_type": "code",
   "execution_count": 16,
   "metadata": {},
   "outputs": [
    {
     "name": "stdout",
     "output_type": "stream",
     "text": [
      "Cross-Validation Accuracy Scores: [0.94411178 0.90219561 0.902      0.862      0.878     ]\n",
      "Mean Cross-Validation Accuracy: 0.8976614770459082\n",
      "Final Model Accuracy: 0.8972821742605915\n",
      "Classification Report:\n",
      "                 precision    recall  f1-score   support\n",
      "\n",
      "      Diabetes       0.75      1.00      0.86       768\n",
      " Heart_Disease       1.00      1.00      1.00      1025\n",
      "Kidney_Disease       1.00      0.91      0.95       400\n",
      "   Lung_Cancer       1.00      0.30      0.47       309\n",
      "\n",
      "      accuracy                           0.90      2502\n",
      "     macro avg       0.94      0.80      0.82      2502\n",
      "  weighted avg       0.92      0.90      0.88      2502\n",
      "\n"
     ]
    }
   ],
   "source": [
    "import pandas as pd\n",
    "from sklearn.model_selection import StratifiedKFold, cross_val_score\n",
    "from sklearn.ensemble import RandomForestClassifier\n",
    "from sklearn.preprocessing import LabelEncoder, StandardScaler\n",
    "from sklearn.pipeline import Pipeline\n",
    "from sklearn.metrics import accuracy_score, classification_report\n",
    "\n",
    "lung_cancer_df = pd.read_csv('survey lung cancer.csv')\n",
    "heart_disease_df = pd.read_csv('heart.csv')\n",
    "diabetes_df = pd.read_csv('diabetes.csv')\n",
    "kidney_disease_df = pd.read_csv('kidney_disease.csv')\n",
    "\n",
    "lung_cancer_df['Disease'] = 'Lung_Cancer'\n",
    "heart_disease_df['Disease'] = 'Heart_Disease'\n",
    "diabetes_df['Disease'] = 'Diabetes'\n",
    "kidney_disease_df['Disease'] = 'Kidney_Disease'\n",
    "\n",
    "combined_df = pd.concat([lung_cancer_df, heart_disease_df, diabetes_df, kidney_disease_df], axis=0, ignore_index=True)\n",
    "\n",
    "le = LabelEncoder()\n",
    "combined_df['Disease'] = le.fit_transform(combined_df['Disease'])\n",
    "\n",
    "numeric_cols = combined_df.select_dtypes(include=['float64', 'int64']).columns\n",
    "combined_df[numeric_cols] = combined_df[numeric_cols].fillna(combined_df[numeric_cols].mean())\n",
    "\n",
    "X = combined_df.drop('Disease', axis=1)\n",
    "y = combined_df['Disease']\n",
    "\n",
    "X = pd.get_dummies(X, drop_first=True)\n",
    "\n",
    "scaler = StandardScaler()\n",
    "X_scaled = scaler.fit_transform(X)\n",
    "\n",
    "skf = StratifiedKFold(n_splits=5, shuffle=True, random_state=42)\n",
    "\n",
    "clf = RandomForestClassifier(\n",
    "    n_estimators=10,         \n",
    "    max_depth=2,             \n",
    "    max_features='sqrt',      \n",
    "    min_samples_split=7,    \n",
    "    min_samples_leaf=3,       \n",
    "    random_state=42\n",
    ")\n",
    "\n",
    "cv_scores = cross_val_score(clf, X_scaled, y, cv=skf, scoring='accuracy')\n",
    "print(\"Cross-Validation Accuracy Scores:\", cv_scores)\n",
    "print(\"Mean Cross-Validation Accuracy:\", cv_scores.mean())\n",
    "\n",
    "clf.fit(X_scaled, y)\n",
    "y_pred = clf.predict(X_scaled)\n",
    "print(\"Final Model Accuracy:\", accuracy_score(y, y_pred))\n",
    "print(\"Classification Report:\\n\", classification_report(y, y_pred, target_names=le.classes_))\n"
   ]
  },
  {
   "cell_type": "code",
   "execution_count": null,
   "metadata": {},
   "outputs": [],
   "source": []
  }
 ],
 "metadata": {
  "kernelspec": {
   "display_name": "Python 3",
   "language": "python",
   "name": "python3"
  },
  "language_info": {
   "codemirror_mode": {
    "name": "ipython",
    "version": 3
   },
   "file_extension": ".py",
   "mimetype": "text/x-python",
   "name": "python",
   "nbconvert_exporter": "python",
   "pygments_lexer": "ipython3",
   "version": "3.11.4"
  }
 },
 "nbformat": 4,
 "nbformat_minor": 2
}
